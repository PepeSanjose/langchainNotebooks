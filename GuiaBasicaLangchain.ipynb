{
 "cells": [
  {
   "cell_type": "markdown",
   "metadata": {},
   "source": [
    "# Introducción a LangChain"
   ]
  },
  {
   "cell_type": "markdown",
   "metadata": {},
   "source": [
    "## Antes de comenzar"
   ]
  },
  {
   "cell_type": "markdown",
   "metadata": {},
   "source": [
    "**Requisitos necesarios:**\n",
    "1. Debe tener una cuenta en OPENAI\n",
    "2. Añadir una variable de entorno con la KEY [Más información](https://help.openai.com/en/articles/5112595-best-practices-for-api-key-safety)\n",
    "3. Instalar dependencias, por la cantidad de dependencias se recomienda ejecutar sobre un entorno virtual.\n",
    "\n",
    "**Dependencias necesarias para este Notebook:**\n",
    "1. pip install openai\n",
    "2. pip install tiktoken\n",
    "3. pip install langchain\n",
    "4. pip install \"langserve[all]\"\n",
    "5. pip install langchain-cli\n",
    "6. pip install langchain docarray\n",
    "\n",
    "Es posible que le de un error similar a este:\n",
    " \"Field required [type=missing, input_value={'embedding': [-0.0192381..., 0.010137099064823456]}, input_type=dict]\n",
    "     For further information visit ....\"\n",
    "Se soluciona con la siguiente instrucción: **pip3 install pydantic==1.10.9**\n"
   ]
  },
  {
   "cell_type": "code",
   "execution_count": 1,
   "metadata": {},
   "outputs": [
    {
     "name": "stdout",
     "output_type": "stream",
     "text": [
      "Note: you may need to restart the kernel to use updated packages.\n",
      "Note: you may need to restart the kernel to use updated packages.\n",
      "Note: you may need to restart the kernel to use updated packages.\n",
      "Note: you may need to restart the kernel to use updated packages.\n",
      "Note: you may need to restart the kernel to use updated packages.\n"
     ]
    }
   ],
   "source": [
    "%pip install openai --quiet\n",
    "%pip install tiktoken --quiet\n",
    "%pip install langchain --quiet\n",
    "%pip install langchain-cli --quiet\n",
    "%pip install langchain docarray --quiet\n",
    "\n",
    "#En caso de error\n",
    "#%pip install pydantic==1.10.9"
   ]
  },
  {
   "cell_type": "code",
   "execution_count": 2,
   "metadata": {},
   "outputs": [],
   "source": [
    "from typing import List\n",
    "\n",
    "from langchain.llms import OpenAI\n",
    "from langchain.schema import HumanMessage, AIMessage\n",
    "from langchain.chat_models import ChatOpenAI\n",
    "from langchain.embeddings import OpenAIEmbeddings\n",
    "from langchain.prompts import ChatPromptTemplate\n",
    "from langchain.schema.output_parser import StrOutputParser\n",
    "from langchain.schema import BaseOutputParser\n",
    "from langchain.schema.runnable import RunnableParallel, RunnablePassthrough\n",
    "from langchain.vectorstores import DocArrayInMemorySearch"
   ]
  },
  {
   "cell_type": "markdown",
   "metadata": {},
   "source": [
    "## Sección 1 - Primeros pasos"
   ]
  },
  {
   "cell_type": "markdown",
   "metadata": {},
   "source": [
    "### 1.1 Ejemplo sencillo de llamadas a modelos (GPT)\n",
    "LangChain dispone de dos métodos para llamar a los modelos LLM como GPT: **Modo Texto** y **Modo Chat**"
   ]
  },
  {
   "cell_type": "markdown",
   "metadata": {},
   "source": [
    "**Modo texto:**\n",
    "Toma un texto de entrada (por ejemplo una pregunta) y devuelve una respuesta de tipo texto."
   ]
  },
  {
   "cell_type": "code",
   "execution_count": 3,
   "metadata": {},
   "outputs": [
    {
     "name": "stdout",
     "output_type": "stream",
     "text": [
      "<class 'str'>\n",
      "\n",
      "\n",
      "Sí, Java es un lenguaje orientado a objetos. Utiliza conceptos como clases, objetos, herencia, polimorfismo, encapsulamiento y abstracción para ayudar a los programadores a crear aplicaciones más eficientes.\n"
     ]
    }
   ],
   "source": [
    "\n",
    "\n",
    "llm = OpenAI()\n",
    "text = \"Java es un lenguaje orientado a Objetos?\"\n",
    "result = llm.invoke(text)\n",
    "print(type(result)) #el tipo devuelto es un string\n",
    "print(result)"
   ]
  },
  {
   "cell_type": "markdown",
   "metadata": {},
   "source": [
    "**Modo Chat:**\n",
    "\n",
    "#Modo chat: se le envía un mensaje con una lista de entradas con el formato [Rol - contenido] y devuelve una respuesta de tipo Mensaje.\n",
    "\n",
    "En Langchain existen algunos roles predeterminandos:\n",
    "\n",
    "- **HumanMessage:** Para un mensaje que viene de un humano/usuario.\n",
    "- **AIMessage:** Para un mensaje aportado por la AI/assistant.\n",
    "- **SystemMessage:** Para un mensaje del sistema\n",
    "- **FunctionMessage / ToolMessage:**  Un mensaje que contiene la salida de una función, API, etc.\n",
    "\n",
    "Tambien puede configurar un rol específico a través de la clase ChatMessage."
   ]
  },
  {
   "cell_type": "code",
   "execution_count": 4,
   "metadata": {},
   "outputs": [
    {
     "name": "stdout",
     "output_type": "stream",
     "text": [
      "<class 'langchain_core.messages.ai.AIMessage'>\n",
      "content='Sí, Java es un lenguaje orientado a objetos. Esto significa que todos los elementos en Java, como clases, objetos, métodos y variables, están orientados a objetos y se basan en el concepto de programación orientada a objetos (POO). La POO se centra en la creación de objetos que tienen propiedades y comportamientos, y estos objetos interactúan entre sí para realizar tareas en un programa. Java también admite los cuatro principios fundamentales de la POO: encapsulación, herencia, polimorfismo y abstracción.'\n"
     ]
    }
   ],
   "source": [
    "#Modo chat: se le envía un mensaje con una lista de entradas con [Rol - texto] y devuelve una respuesta de tipo Mensaje.\n",
    "chat_model = ChatOpenAI()\n",
    "IAText=\"Soy un experto en Java\"\n",
    "HumanText=\"¿Java es un lenguaje orientado a Objetos?\"\n",
    "messages = [AIMessage(content=IAText), \n",
    "            HumanMessage(content=HumanText)]\n",
    "\n",
    "result = chat_model.invoke(messages)\n",
    "print(type(result)) #el tipo devuelto es un IAMessage, que tiene un campo content que es un string\n",
    "print(result)"
   ]
  },
  {
   "cell_type": "markdown",
   "metadata": {},
   "source": [
    "### Sección 1.2 - Prompt templates\n",
    "Normalmente  no solemos pasar mensajes(prompts) simples a los modelos LLMs. Lo más común es pasar contexto y/o instrucciones adicionales para optimizar el resultado. En causisticas donde se requieran lanzar prompts muy similares podemos usar plantillas, por ejemplo:\n",
    "\n",
    "- **Ejemplo Prompt 1**: \"como experto en Python, explicame el siguiente código:\"messages = [AIMessage(content=IAText)\"\n",
    "- **Ejemplo Prompt 2**: \"como experto en Java, explicame el siguiente código:\"public ResponseEntity<String> getPetById(@PathVariable Long petId)\"\n",
    "\n",
    "Como podemos ver, este tipo de Prompt puede ser muy recurrente en un contexto de desarrollo software. Por ello, podemos construir una Template Prompt:\n",
    "\n",
    "- **Prompt Template**: \"como experto en {lenguaje}, explicame el siguiente código: {codigo}\"\n",
    "\n",
    "veamos un ejemplo:\n"
   ]
  },
  {
   "cell_type": "code",
   "execution_count": 5,
   "metadata": {},
   "outputs": [
    {
     "name": "stdout",
     "output_type": "stream",
     "text": [
      "mensaje formateado: [SystemMessage(content='eres un experto en Python'), HumanMessage(content='Como experto en Python, explicame que hace el siguiente código: messages = [AIMessage(content=IAText)]')]\n",
      "resultado: content='El código que has proporcionado crea una lista llamada \"messages\". En esta lista, se almacenan objetos de tipo \"AIMessage\". Cada objeto AIMessage tiene un atributo llamado \"content\", que es un objeto de tipo \"IAText\".\\n\\nEn resumen, el código crea una lista llamada \"messages\" y asigna un objeto AIMessage a cada elemento de la lista. Cada objeto AIMessage tiene un atributo \"content\" que contiene un objeto IAText.'\n",
      "El tipo del resultado es: <class 'langchain_core.messages.ai.AIMessage'>\n"
     ]
    }
   ],
   "source": [
    "#Modo chat: se le envía un mensaje con una lista de entradas con [Rol - texto] y devuelve una respuesta de tipo Mensaje.\n",
    "\n",
    "chat_model = ChatOpenAI()\n",
    "AssistantTemplate=\"eres un experto en {language}\"\n",
    "HumanTemplate=\"Como experto en {language}, explicame que hace el siguiente código: {codigo}\"\n",
    "\n",
    "\n",
    "chat_prompt = ChatPromptTemplate.from_messages([\n",
    "    (\"system\", AssistantTemplate),\n",
    "    (\"human\", HumanTemplate),\n",
    "])\n",
    "\n",
    "#usamos format_messages para mapear los valores específicos en la plantilla\n",
    "message = chat_prompt.format_messages(language='Python', codigo=\"messages = [AIMessage(content=IAText)]\")\n",
    "print(\"mensaje formateado:\", message)\n",
    "\n",
    "#invocamos el modelo con el mensaje final ya formateado y mapeado con los valores específicos: Python, la traza y el código\n",
    "result = chat_model.invoke(message)\n",
    "\n",
    "print(\"resultado:\", result)\n",
    "print(\"El tipo del resultado es:\", type(result))"
   ]
  },
  {
   "cell_type": "markdown",
   "metadata": {},
   "source": [
    "Como podemos ver, **el resultado no es un String**, es un tipo message de Langchain(AIMessage) con el formato: conten: respuesta. ¿y si quisera convertir la salida a string?"
   ]
  },
  {
   "cell_type": "markdown",
   "metadata": {},
   "source": [
    "### Sección 1.3 - Output parsers\n",
    "\n",
    "Otras de las capacidades de LangChain es la facilidad con la que podemos adatpar la salida el tipo de dato que necesitamos. Haciendo uso de la la clase BaseOutputParser, podemos usar parseadores predefinidos o crear uno propio."
   ]
  },
  {
   "cell_type": "markdown",
   "metadata": {},
   "source": [
    "En el siguiente ejemplo, vamos a parsear el resultado anterior con el parse predefinido StrOutputParser() para convertirlo en un String:"
   ]
  },
  {
   "cell_type": "code",
   "execution_count": 6,
   "metadata": {},
   "outputs": [
    {
     "name": "stdout",
     "output_type": "stream",
     "text": [
      "El tipo del resultado es: <class 'str'>\n",
      "El resultado es: El código que has proporcionado crea una lista llamada \"messages\". En esta lista, se almacenan objetos de tipo \"AIMessage\". Cada objeto AIMessage tiene un atributo llamado \"content\", que es un objeto de tipo \"IAText\".\n",
      "\n",
      "En resumen, el código crea una lista llamada \"messages\" y asigna un objeto AIMessage a cada elemento de la lista. Cada objeto AIMessage tiene un atributo \"content\" que contiene un objeto IAText.\n"
     ]
    }
   ],
   "source": [
    "parserResult = StrOutputParser().invoke(result)\n",
    "print(\"El tipo del resultado es:\", type(parserResult))\n",
    "print(\"El resultado es:\", parserResult)"
   ]
  },
  {
   "cell_type": "markdown",
   "metadata": {},
   "source": [
    "En el siguiente ejemplo crearemos un parseador de salida específico para convertir un string a una lista de strings separada por \",\". "
   ]
  },
  {
   "cell_type": "code",
   "execution_count": 7,
   "metadata": {},
   "outputs": [
    {
     "data": {
      "text/plain": [
       "['Argentina', 'Brasil', 'Colombia', 'México', 'Perú']"
      ]
     },
     "execution_count": 7,
     "metadata": {},
     "output_type": "execute_result"
    }
   ],
   "source": [
    "class CommaSeparatedListOutputParser(BaseOutputParser[List[str]]):\n",
    "    \"\"\"Parse the output of an LLM call to a comma-separated list.\"\"\"\n",
    "\n",
    "    def parse(self, text: str) -> List[str]:\n",
    "        \"\"\"Parse the output of an LLM call.\"\"\"\n",
    "        return text.strip().split(\", \")\n",
    "    \n",
    "template = \"\"\"You are a helpful assistant who generates comma separated lists.\n",
    "A user will pass in a category, and you should generate 5 objects in that category in a comma separated list.\n",
    "ONLY return a comma separated list, and nothing more.\"\"\"\n",
    "\n",
    "\"\"\"Eres un asistente útil que genera listas separadas por comas.\n",
    "Un usuario pasará una categoría y deberías generar 5 objetos en esa categoría en una lista separada por comas.\n",
    "SOLO devuelve una lista separada por comas, y nada más.\"\"\"\n",
    "\n",
    "human_template = \"{text}\"\n",
    "\n",
    "chat_prompt = ChatPromptTemplate.from_messages([\n",
    "    (\"system\", template),\n",
    "    (\"human\", human_template),\n",
    "])\n",
    "chain = chat_prompt | ChatOpenAI() | CommaSeparatedListOutputParser()\n",
    "chain.invoke({\"text\": \"paises\"})"
   ]
  },
  {
   "cell_type": "markdown",
   "metadata": {},
   "source": [
    "En este caso el resutado no es ni un mensaje ni un string. Es una lista de strings con el siguiente formato: *['Mexico', 'Canada', 'Brazil', 'Australia', 'France']*. Esto es porque hemos usado el parseador CommaSeparatedListOutputParser.\n",
    "\n",
    "En este caso, para parsear el resultado se ha usado la instrucción: *chat_prompt | ChatOpenAI() | CommaSeparatedListOutputParser()* pero ¿qué hace esto? ¿como funciona el operador |? resolveremos esas dudas en la siguiente sección."
   ]
  },
  {
   "cell_type": "markdown",
   "metadata": {},
   "source": [
    "## Sección 2 - (LCEL) LangChain Expression Language"
   ]
  },
  {
   "cell_type": "markdown",
   "metadata": {},
   "source": [
    "El lenguaje LCEL nos permite, por ejemplo, encadenar una serie acciones en una sola línea con el comando | como vimos en la instrucción:\n",
    " \n",
    " *chat_prompt | ChatOpenAI() | CommaSeparatedListOutputParser()* \n",
    " \n",
    " Usando LCEL se reduce significativamente el número de líneas de codigo necesarias para construir una funcionalidad. En este caso, al cuando usamos el método invoke se pasa el valor de la variable text (paises) a la Prompt Template, despues se ejecuta el modelo a partir de la Prompt generada por la template, y por último se realiza el parseo de la salida del modelo a una lista separada por comas. Es decir, se ejecutan de izquierda a derecha todas las acciones dentro del Pipeline:\n",
    "\n",
    "*chain = chat_prompt | ChatOpenAI() | CommaSeparatedListOutputParser()*\n",
    "\n",
    "*chain.invoke({\"text\": \"paises\"})*\n",
    "\n",
    "Veamos un ejemplo paso a paso:\n",
    "\n",
    "\n"
   ]
  },
  {
   "cell_type": "code",
   "execution_count": 8,
   "metadata": {},
   "outputs": [
    {
     "data": {
      "text/plain": [
       "AIMessage(content='Había una vez un perro llamado Toby, un simpático Golden Retriever de pelaje dorado y ojos brillantes. Vivía en un pequeño pueblo rodeado de montañas y campos verdes. Toby siempre estaba lleno de energía y alegría, y su mayor pasión era explorar y descubrir nuevos lugares.\\n\\nUn día, mientras paseaba por el bosque, Toby escuchó un llanto proveniente de un arbusto cercano. Se acercó rápidamente y encontró a un cachorro abandonado. Sin dudarlo, Toby decidió adoptarlo y llevarlo a su hogar.\\n\\nEl cachorro, al que llamaron Max, pronto se convirtió en el mejor amigo de Toby. Juntos, exploraron cada rincón del pueblo, jugando y alegrando a todos los habitantes. La bondad y lealtad de Toby se hizo famosa en el pueblo, y todos lo adoraban.\\n\\nUn día, mientras Toby y Max jugaban cerca de un lago, vieron a una niña pequeña que estaba en peligro. Sin pensarlo dos veces, Toby se lanzó al agua y nadó hacia ella, agarrándola por el brazo y llevándola a un lugar seguro. La niña, agradecida, abrazó a Toby y le dio las gracias.\\n\\nLas noticias sobre el heroísmo de Toby se extendieron rápidamente, y pronto se convirtió en un perro famoso en todo el país. Recibió reconocimientos y premios por su valentía, pero lo más importante para él era haber salvado a la niña y haber demostrado a todos que los perros también pueden ser héroes.\\n\\nToby y Max siguieron explorando y viviendo aventuras juntos, siempre dispuestos a ayudar a los demás. Su amistad era inquebrantable, y su amor y bondad se convirtieron en un ejemplo para todos en el pueblo.\\n\\nY así, la historia de Toby, el perro héroe, se convirtió en leyenda, recordándonos que el verdadero valor y la amistad pueden encontrarse en los lugares más inesperados.')"
      ]
     },
     "execution_count": 8,
     "metadata": {},
     "output_type": "execute_result"
    }
   ],
   "source": [
    "model = ChatOpenAI()\n",
    "prompt = ChatPromptTemplate.from_template(\"Cuentame una historia corta sobre {topic}\")\n",
    "chain = prompt | model\n",
    "chain.invoke({\"topic\": \"un perro\"})"
   ]
  },
  {
   "cell_type": "markdown",
   "metadata": {},
   "source": [
    "Ahora formateemos el mensaje a un string, en vez de la salida actual *AIMessage*."
   ]
  },
  {
   "cell_type": "code",
   "execution_count": 9,
   "metadata": {},
   "outputs": [
    {
     "data": {
      "text/plain": [
       "'Había una vez un perro llamado Max, un adorable labrador dorado. Max vivía en un pequeño pueblo rodeado de hermosos campos verdes.\\n\\nUn día, Max decidió aventurarse más allá de su casa y explorar los alrededores. Caminó por senderos desconocidos hasta que llegó a un bosque encantador. Allí, encontró a un grupo de animales que parecían perdidos y asustados.\\n\\nHabía un conejo tembloroso, un pájaro con una ala rota y un gato callejero. Max, con su corazón bondadoso, decidió ayudarlos. Comenzó por el conejo, guiándolo con su nariz hasta su madriguera segura. Luego, Max voló al gato en sus fuertes mandíbulas hasta un refugio donde pudiera encontrar comida y agua.\\n\\nFinalmente, Max se acercó al pájaro herido y lo llevó con cuidado en su boca hasta un árbol alto y seguro. Allí, el pájaro podría descansar y recuperarse sin peligro.\\n\\nEl perro valiente y amable regresó a su casa, pero no antes de recibir un agradecimiento especial de cada uno de los animales a los que había ayudado. Max se sintió feliz y satisfecho por haber hecho una diferencia en la vida de esos seres indefensos.\\n\\nA partir de ese día, Max se convirtió en el protector de los animales del bosque. Cada vez que alguien necesitaba ayuda, él estaba allí para brindar su apoyo y amor incondicional.\\n\\nLa historia de Max se extendió por todo el pueblo, y la gente lo admiraba y respetaba por su generosidad. Max se convirtió en un héroe local y vivió una vida feliz y plena rodeado de amigos animales y humanos que lo amaban.\\n\\nY así, Max demostró que, aunque era solo un perro, su bondad y compasión podían marcar una gran diferencia en el mundo.'"
      ]
     },
     "execution_count": 9,
     "metadata": {},
     "output_type": "execute_result"
    }
   ],
   "source": [
    "chain = prompt | model | StrOutputParser()\n",
    "chain.invoke({\"topic\": \"un perro\"})"
   ]
  },
  {
   "cell_type": "markdown",
   "metadata": {},
   "source": [
    "Ahora, usaremos un nuevo comando Batch en vez de invoke. En este caso para ejecutar el pipeline para varias entradas:"
   ]
  },
  {
   "cell_type": "code",
   "execution_count": 10,
   "metadata": {},
   "outputs": [
    {
     "data": {
      "text/plain": [
       "['Había una vez un perro llamado Max, un labrador dorado muy juguetón y cariñoso. Vivía en un pequeño pueblo junto a su dueño, Lucas, quien lo quería como a un miembro más de su familia.\\n\\nUn día, Lucas decidió llevar a Max de paseo por el bosque cercano al pueblo. Era un lugar hermoso, lleno de árboles altos y flores de colores. Max estaba emocionado, moviendo su cola de un lado a otro mientras exploraban el lugar.\\n\\nDe repente, escucharon un ruido extraño proveniente de unos arbustos. Max, curioso como siempre, corrió hacia allí. Al acercarse, encontraron a una pequeña cachorra perdida. Tenía el pelaje blanco y estaba temblando de miedo.\\n\\nLucas y Max la acogieron de inmediato. Decidieron llevarla a casa, donde le dieron un baño y un poco de comida. La llamaron Luna, por su suave pelaje blanco que parecía reflejar la luz de la luna.\\n\\nMax se convirtió en el mejor amigo y protector de Luna. Juntos, exploraban el pueblo y jugaban sin cesar. Luna había encontrado una familia que la amaba y Max estaba feliz de tener una compañera de juegos.\\n\\nUn día, mientras paseaban por el parque, Luna vio a un niño llorando. Sin dudarlo, corrió hacia él y comenzó a lamer sus lágrimas. El niño sonrió y abrazó a Luna, agradecido por su ternura y cariño incondicional.\\n\\nA partir de aquel momento, Luna se convirtió en una terapia canina, llevando alegría y consuelo a las personas que más lo necesitaban. Lucas y Max se sintieron muy orgullosos de su pequeña heroína.\\n\\nLos años pasaron y Max y Luna siguieron siendo inseparables. Juntos, envejecieron y vivieron una vida llena de amor y aventuras. Siempre recordarán aquel día en el bosque, cuando encontraron a Luna y le dieron un hogar.\\n\\nEsta historia nos enseña que, a veces, los momentos más inesperados pueden traer las mayores bendiciones. Y que el amor y la amistad que compartimos con nuestros fieles amigos de cuatro patas es algo que nunca debemos dar por sentado.',\n",
       " 'Había una vez un gato llamado Simón, que vivía en una pequeña casa junto a su dueña, una anciana muy cariñosa llamada Rosa. Simón era un gato muy curioso y aventurero, siempre estaba explorando los alrededores de su hogar en busca de nuevas aventuras.\\n\\nUn día, mientras deambulaba por el jardín, Simón descubrió un pequeño sendero que conducía a un bosque encantado. Sin pensarlo dos veces, decidió adentrarse en él. A medida que avanzaba entre los árboles, el gato se encontró con una hermosa mariposa de colores brillantes, que volaba de flor en flor.\\n\\nSimón, fascinado por la belleza de la mariposa, decidió seguirla. Corrió y saltó detrás de ella, pasando por arroyos y arbustos, hasta que llegaron a un claro mágico lleno de flores exóticas y brillantes. La mariposa parecía estar jugando con Simón, volando alto y luego bajando para que él pudiera alcanzarla.\\n\\nDe repente, la mariposa desapareció entre los árboles y Simón se encontró solo en un lugar desconocido. El gato se asustó un poco, pero decidió explorar el área y buscar un camino de regreso a casa.\\n\\nMientras tanto, Rosa, la dueña de Simón, comenzó a preocuparse al darse cuenta de que su gato no había vuelto a casa. Salió a buscarlo por el vecindario, llamándolo por su nombre y preguntándole a los vecinos si lo habían visto. Pero no había rastro de Simón.\\n\\nPasaron varios días y Simón seguía perdido en el bosque encantado. Se encontró con una familia de conejos y se hizo amigo de ellos, compartiendo sus aventuras y explorando juntos el bosque. Los conejos enseñaron a Simón a cazar y a sobrevivir en la naturaleza.\\n\\nMientras tanto, Rosa no dejaba de buscar a su querido gato. Puso carteles por todo el vecindario y preguntó en los refugios de animales. Un día, cuando estaba a punto de rendirse, recibió una llamada diciendo que habían encontrado a Simón en el bosque encantado.\\n\\nRosa corrió hacia el bosque y encontró a su gato rodeado de conejos. Simón corrió hacia ella, maullando de alegría. Rosa lo abrazó con fuerza y le prometió que nunca más se separarían.\\n\\nDesde ese día, Simón se convirtió en un gato más cauteloso, pero nunca dejó de ser aventurero. Apreciaba aún más su hogar y a su dueña, y siempre recordaba con cariño su tiempo en el bosque encantado junto a sus nuevos amigos los conejos. Juntos, Simón y Rosa vivieron felices para siempre.']"
      ]
     },
     "execution_count": 10,
     "metadata": {},
     "output_type": "execute_result"
    }
   ],
   "source": [
    "chain.batch([{\"topic\": \"Un perro\"}, {\"topic\": \"Un gato\"}])"
   ]
  },
  {
   "cell_type": "markdown",
   "metadata": {},
   "source": [
    "En esta ocasion, con el comando batch se ha ejecutado 2 veces el proceso. En el siguiente ejemplo usaremos stream, que nos permitirá imprimir el resultado palabra a palabra a medida que recibe la respuesta en vez de esperar a tener toda la respuesta."
   ]
  },
  {
   "cell_type": "code",
   "execution_count": 11,
   "metadata": {},
   "outputs": [
    {
     "name": "stdout",
     "output_type": "stream",
     "text": [
      "Había una vez un perro llamado Max, que vivía en un pequeño pueblo junto a su dueño, Juan. Max era un perro muy juguetón y le encantaba salir a pasear por el parque todos los días.\n",
      "\n",
      "Un día, mientras Max y Juan caminaban por el parque, escucharon un llanto proveniente del fondo de un arbusto. Max, moviendo su cola emocionado, se acercó rápidamente para investigar. Allí encontraron a un cachorro abandonado y asustado.\n",
      "\n",
      "Juan y Max decidieron llevar al cachorro a casa y cuidarlo. Le pusieron el nombre de Toby y se convirtió en el nuevo miembro de la familia. Max y Toby se volvieron inseparables y pasaban todo el día jugando y explorando juntos.\n",
      "\n",
      "Con el tiempo, Max notó que Toby tenía miedo de los ruidos fuertes, como los truenos. Max, recordando cómo Juan lo había ayudado a superar su propio miedo a los fuegos artificiales, decidió enseñarle a Toby a no tener miedo.\n",
      "\n",
      "Max comenzó a llevar a Toby a un lugar tranquilo en el parque cuando escuchaban truenos o fuegos artificiales, para mostrarle que no tenían por qué temerles. Max se acostaba junto a Toby, lo abrazaba con sus patas y le lamía la frente para calmarlo.\n",
      "\n",
      "Con el tiempo, Toby comenzó a sentirse más seguro y ya no se asustaba tanto. Max se enorgullecía de su logro y estaba feliz de haber podido ayudar a su nuevo amigo.\n",
      "\n",
      "Pasaron los años y Max se hizo mayor. Un día, Max enfermó y ya no tenía la misma energía para jugar con Toby. Toby, triste y preocupado, se acostaba junto a Max y lo cuidaba como Max lo había cuidado a él.\n",
      "\n",
      "Finalmente, Max falleció, dejando un gran vacío en el corazón de Toby y de Juan. Pero Toby nunca olvidó el amor y la amistad que Max le había brindado. Aprendió a recordar a Max con cariño y agradecimiento por haberle enseñado a superar sus miedos y haber sido su mejor amigo.\n",
      "\n",
      "Y así, la historia de Max y Toby se convirtió en un ejemplo de amistad y valentía, un recordatorio de que incluso los perros pueden enseñarnos lecciones importantes sobre el amor y la superación personal."
     ]
    }
   ],
   "source": [
    "for s in chain.stream({\"topic\": \"un perro\"}):\n",
    "    print(s, end=\"\", flush=True)"
   ]
  },
  {
   "cell_type": "markdown",
   "metadata": {},
   "source": [
    "## Sección 3 - Jugando con Embeddings y Vectors DBs(In progress)"
   ]
  },
  {
   "cell_type": "markdown",
   "metadata": {},
   "source": [
    "En el siguiente ejemplo se muestra un ejemplo de RAG sensillo donde se almacenan los embeddings en memoria."
   ]
  },
  {
   "cell_type": "code",
   "execution_count": 12,
   "metadata": {},
   "outputs": [
    {
     "name": "stdout",
     "output_type": "stream",
     "text": [
      "El procedimiento sería el siguiente:\n",
      "1. Para las horas de formación, debes imputarlas en la tarea \"Formación\".\n",
      "2. Además, debes firmar un documento de asistencia y enviarlo a RRHH.\n",
      "3. Para el resto del tiempo que has trabajado en otras tareas, debes imputar las horas en cada una de esas tareas correspondientes.\n",
      "4. En caso de que no hayas trabajado en una tarea específica, debes imputar las horas en la tarea \"Otros\".\n",
      "5. Si has tomado vacaciones, debes imputarlas en la tarea \"Vacaciones\" y también enviar un correo a RRHH para que se contabilicen correctamente.\n"
     ]
    }
   ],
   "source": [
    "vectorstore = DocArrayInMemorySearch.from_texts(\n",
    "    [\"Proceso 1: Los empleados deben imputar sus horas en cada una de las tareas en las que ha trabajado cada día\", \n",
    "     \"Proceso 2: En caso de que el empleado no haya trabajado en una tarea, debe imputar las horas en la tarea 'Otros'\",\n",
    "     \"Proceso 3: Las vacaciones se imputarán en la tarea 'Vacaciones', pero debe enviarse un mail a RRHH para que se contabilicen correctamente\",\n",
    "     \"Proceso 4: Las horas extras se imputarán en la tarea 'Horas extras', pero debe enviarse un mail a RRHH para que se contabilicen correctamente\",\n",
    "     \"Proceso 5: Las horas de formación se imputarán en la tarea 'Formación', el empleado debe firmar un documento de asistencia y enviarlo a RRHH\",\n",
    "     \"Norma 1: El empleado debe imputar sus horas en el sistema antes de las 18:00 del día siguiente\",\n",
    "     \"Norma 2: Las vacaciones deben tomarse para un perido mínimo de 5 días naturales\"],\n",
    "    embedding=OpenAIEmbeddings(),\n",
    ")\n",
    "\n",
    "retriever = vectorstore.as_retriever()\n",
    "\n",
    "template = \"\"\"Responde a la pregunta teniendo en cuenta en primer lugar el siguiente contexto sin ser muy creativo:\n",
    "{context}\n",
    "\n",
    "Question: {question}\n",
    "\"\"\"\n",
    "prompt = ChatPromptTemplate.from_template(template)\n",
    "model = ChatOpenAI()\n",
    "output_parser = StrOutputParser()\n",
    "\n",
    "setup_and_retrieval = RunnableParallel(\n",
    "    {\"context\": retriever, \"question\": RunnablePassthrough()}\n",
    ")\n",
    "chain = setup_and_retrieval | prompt | model | output_parser\n",
    "\n",
    "print(chain.invoke(\"Hoy he asistido a una formación de 2H, y el resto del tiempo he trabajado de tareas. ¿cual es el procedimiento?\"))"
   ]
  },
  {
   "cell_type": "markdown",
   "metadata": {},
   "source": [
    "Base de datos vectorial"
   ]
  },
  {
   "cell_type": "code",
   "execution_count": null,
   "metadata": {},
   "outputs": [],
   "source": []
  }
 ],
 "metadata": {
  "kernelspec": {
   "display_name": "venv",
   "language": "python",
   "name": "python3"
  },
  "language_info": {
   "codemirror_mode": {
    "name": "ipython",
    "version": 3
   },
   "file_extension": ".py",
   "mimetype": "text/x-python",
   "name": "python",
   "nbconvert_exporter": "python",
   "pygments_lexer": "ipython3",
   "version": "3.11.3"
  }
 },
 "nbformat": 4,
 "nbformat_minor": 2
}
