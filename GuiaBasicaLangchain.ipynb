{
 "cells": [
  {
   "cell_type": "markdown",
   "metadata": {},
   "source": [
    "# Introducción a LangChain"
   ]
  },
  {
   "cell_type": "markdown",
   "metadata": {},
   "source": [
    "## Antes de comenzar"
   ]
  },
  {
   "cell_type": "markdown",
   "metadata": {},
   "source": [
    "**Requisitos necesarios:**\n",
    "1. Debe tener una cuenta en OPENAI\n",
    "2. Añadir una variable de entorno con la KEY [Más información](https://help.openai.com/en/articles/5112595-best-practices-for-api-key-safety)\n",
    "3. Instalar dependencias, por la cantidad de dependencias se recomienda ejecutar sobre un entorno virtual.\n",
    "\n",
    "**Dependencias necesarias para este Notebook:**\n",
    "1. pip install openai\n",
    "2. pip install tiktoken\n",
    "3. pip install langchain\n",
    "4. pip install \"langserve[all]\"\n",
    "5. pip install langchain-cli\n",
    "6. pip install langchain docarray\n",
    "\n",
    "Es posible que le de un error similar a este:\n",
    " \"Field required [type=missing, input_value={'embedding': [-0.0192381..., 0.010137099064823456]}, input_type=dict]\n",
    "     For further information visit ....\"\n",
    "Se soluciona con la siguiente instrucción: **pip3 install pydantic==1.10.9**\n"
   ]
  },
  {
   "cell_type": "code",
   "execution_count": 73,
   "metadata": {},
   "outputs": [
    {
     "name": "stdout",
     "output_type": "stream",
     "text": [
      "Requirement already satisfied: openai in d:\\virtual_environments\\langchain\\venv\\lib\\site-packages (1.3.7)Note: you may need to restart the kernel to use updated packages.\n",
      "\n",
      "Requirement already satisfied: anyio<4,>=3.5.0 in d:\\virtual_environments\\langchain\\venv\\lib\\site-packages (from openai) (3.7.1)\n",
      "Requirement already satisfied: distro<2,>=1.7.0 in d:\\virtual_environments\\langchain\\venv\\lib\\site-packages (from openai) (1.8.0)\n",
      "Requirement already satisfied: httpx<1,>=0.23.0 in d:\\virtual_environments\\langchain\\venv\\lib\\site-packages (from openai) (0.25.2)\n",
      "Requirement already satisfied: pydantic<3,>=1.9.0 in d:\\virtual_environments\\langchain\\venv\\lib\\site-packages (from openai) (1.10.9)\n",
      "Requirement already satisfied: sniffio in d:\\virtual_environments\\langchain\\venv\\lib\\site-packages (from openai) (1.3.0)\n",
      "Requirement already satisfied: tqdm>4 in d:\\virtual_environments\\langchain\\venv\\lib\\site-packages (from openai) (4.66.1)\n",
      "Requirement already satisfied: typing-extensions<5,>=4.5 in d:\\virtual_environments\\langchain\\venv\\lib\\site-packages (from openai) (4.8.0)\n",
      "Requirement already satisfied: idna>=2.8 in d:\\virtual_environments\\langchain\\venv\\lib\\site-packages (from anyio<4,>=3.5.0->openai) (3.6)\n",
      "Requirement already satisfied: certifi in d:\\virtual_environments\\langchain\\venv\\lib\\site-packages (from httpx<1,>=0.23.0->openai) (2023.11.17)\n",
      "Requirement already satisfied: httpcore==1.* in d:\\virtual_environments\\langchain\\venv\\lib\\site-packages (from httpx<1,>=0.23.0->openai) (1.0.2)\n",
      "Requirement already satisfied: h11<0.15,>=0.13 in d:\\virtual_environments\\langchain\\venv\\lib\\site-packages (from httpcore==1.*->httpx<1,>=0.23.0->openai) (0.14.0)\n",
      "Requirement already satisfied: colorama in d:\\virtual_environments\\langchain\\venv\\lib\\site-packages (from tqdm>4->openai) (0.4.6)\n",
      "Requirement already satisfied: tiktoken in d:\\virtual_environments\\langchain\\venv\\lib\\site-packages (0.5.2)\n",
      "Requirement already satisfied: regex>=2022.1.18 in d:\\virtual_environments\\langchain\\venv\\lib\\site-packages (from tiktoken) (2023.10.3)\n",
      "Requirement already satisfied: requests>=2.26.0 in d:\\virtual_environments\\langchain\\venv\\lib\\site-packages (from tiktoken) (2.31.0)\n",
      "Requirement already satisfied: charset-normalizer<4,>=2 in d:\\virtual_environments\\langchain\\venv\\lib\\site-packages (from requests>=2.26.0->tiktoken) (3.3.2)\n",
      "Requirement already satisfied: idna<4,>=2.5 in d:\\virtual_environments\\langchain\\venv\\lib\\site-packages (from requests>=2.26.0->tiktoken) (3.6)\n",
      "Requirement already satisfied: urllib3<3,>=1.21.1 in d:\\virtual_environments\\langchain\\venv\\lib\\site-packages (from requests>=2.26.0->tiktoken) (2.1.0)\n",
      "Requirement already satisfied: certifi>=2017.4.17 in d:\\virtual_environments\\langchain\\venv\\lib\\site-packages (from requests>=2.26.0->tiktoken) (2023.11.17)\n",
      "Note: you may need to restart the kernel to use updated packages.\n",
      "Requirement already satisfied: langchain in d:\\virtual_environments\\langchain\\venv\\lib\\site-packages (0.0.348)\n",
      "Requirement already satisfied: PyYAML>=5.3 in d:\\virtual_environments\\langchain\\venv\\lib\\site-packages (from langchain) (6.0.1)\n",
      "Requirement already satisfied: SQLAlchemy<3,>=1.4 in d:\\virtual_environments\\langchain\\venv\\lib\\site-packages (from langchain) (2.0.23)\n",
      "Requirement already satisfied: aiohttp<4.0.0,>=3.8.3 in d:\\virtual_environments\\langchain\\venv\\lib\\site-packages (from langchain) (3.9.1)\n",
      "Requirement already satisfied: dataclasses-json<0.7,>=0.5.7 in d:\\virtual_environments\\langchain\\venv\\lib\\site-packages (from langchain) (0.6.3)\n",
      "Requirement already satisfied: jsonpatch<2.0,>=1.33 in d:\\virtual_environments\\langchain\\venv\\lib\\site-packages (from langchain) (1.33)\n",
      "Requirement already satisfied: langchain-core<0.1,>=0.0.12 in d:\\virtual_environments\\langchain\\venv\\lib\\site-packages (from langchain) (0.0.12)\n",
      "Requirement already satisfied: langsmith<0.1.0,>=0.0.63 in d:\\virtual_environments\\langchain\\venv\\lib\\site-packages (from langchain) (0.0.69)\n",
      "Requirement already satisfied: numpy<2,>=1 in d:\\virtual_environments\\langchain\\venv\\lib\\site-packages (from langchain) (1.26.2)\n",
      "Requirement already satisfied: pydantic<3,>=1 in d:\\virtual_environments\\langchain\\venv\\lib\\site-packages (from langchain) (1.10.9)\n",
      "Requirement already satisfied: requests<3,>=2 in d:\\virtual_environments\\langchain\\venv\\lib\\site-packages (from langchain) (2.31.0)\n",
      "Requirement already satisfied: tenacity<9.0.0,>=8.1.0 in d:\\virtual_environments\\langchain\\venv\\lib\\site-packages (from langchain) (8.2.3)\n",
      "Requirement already satisfied: attrs>=17.3.0 in d:\\virtual_environments\\langchain\\venv\\lib\\site-packages (from aiohttp<4.0.0,>=3.8.3->langchain) (23.1.0)\n",
      "Requirement already satisfied: multidict<7.0,>=4.5 in d:\\virtual_environments\\langchain\\venv\\lib\\site-packages (from aiohttp<4.0.0,>=3.8.3->langchain) (6.0.4)\n",
      "Requirement already satisfied: yarl<2.0,>=1.0 in d:\\virtual_environments\\langchain\\venv\\lib\\site-packages (from aiohttp<4.0.0,>=3.8.3->langchain) (1.9.4)\n",
      "Requirement already satisfied: frozenlist>=1.1.1 in d:\\virtual_environments\\langchain\\venv\\lib\\site-packages (from aiohttp<4.0.0,>=3.8.3->langchain) (1.4.0)\n",
      "Requirement already satisfied: aiosignal>=1.1.2 in d:\\virtual_environments\\langchain\\venv\\lib\\site-packages (from aiohttp<4.0.0,>=3.8.3->langchain) (1.3.1)\n",
      "Requirement already satisfied: marshmallow<4.0.0,>=3.18.0 in d:\\virtual_environments\\langchain\\venv\\lib\\site-packages (from dataclasses-json<0.7,>=0.5.7->langchain) (3.20.1)\n",
      "Requirement already satisfied: typing-inspect<1,>=0.4.0 in d:\\virtual_environments\\langchain\\venv\\lib\\site-packages (from dataclasses-json<0.7,>=0.5.7->langchain) (0.9.0)\n",
      "Requirement already satisfied: jsonpointer>=1.9 in d:\\virtual_environments\\langchain\\venv\\lib\\site-packages (from jsonpatch<2.0,>=1.33->langchain) (2.4)\n",
      "Requirement already satisfied: anyio<5,>=3 in d:\\virtual_environments\\langchain\\venv\\lib\\site-packages (from langchain-core<0.1,>=0.0.12->langchain) (3.7.1)\n",
      "Requirement already satisfied: packaging<24.0,>=23.2 in d:\\virtual_environments\\langchain\\venv\\lib\\site-packages (from langchain-core<0.1,>=0.0.12->langchain) (23.2)\n",
      "Requirement already satisfied: typing-extensions>=4.2.0 in d:\\virtual_environments\\langchain\\venv\\lib\\site-packages (from pydantic<3,>=1->langchain) (4.8.0)\n",
      "Requirement already satisfied: charset-normalizer<4,>=2 in d:\\virtual_environments\\langchain\\venv\\lib\\site-packages (from requests<3,>=2->langchain) (3.3.2)\n",
      "Requirement already satisfied: idna<4,>=2.5 in d:\\virtual_environments\\langchain\\venv\\lib\\site-packages (from requests<3,>=2->langchain) (3.6)\n",
      "Requirement already satisfied: urllib3<3,>=1.21.1 in d:\\virtual_environments\\langchain\\venv\\lib\\site-packages (from requests<3,>=2->langchain) (2.1.0)\n",
      "Requirement already satisfied: certifi>=2017.4.17 in d:\\virtual_environments\\langchain\\venv\\lib\\site-packages (from requests<3,>=2->langchain) (2023.11.17)\n",
      "Requirement already satisfied: greenlet!=0.4.17 in d:\\virtual_environments\\langchain\\venv\\lib\\site-packages (from SQLAlchemy<3,>=1.4->langchain) (3.0.1)\n",
      "Requirement already satisfied: sniffio>=1.1 in d:\\virtual_environments\\langchain\\venv\\lib\\site-packages (from anyio<5,>=3->langchain-core<0.1,>=0.0.12->langchain) (1.3.0)\n",
      "Requirement already satisfied: mypy-extensions>=0.3.0 in d:\\virtual_environments\\langchain\\venv\\lib\\site-packages (from typing-inspect<1,>=0.4.0->dataclasses-json<0.7,>=0.5.7->langchain) (1.0.0)\n",
      "Note: you may need to restart the kernel to use updated packages.\n",
      "Requirement already satisfied: langserve[all] in d:\\virtual_environments\\langchain\\venv\\lib\\site-packages (0.0.34)\n",
      "Requirement already satisfied: fastapi<1,>=0.90.1 in d:\\virtual_environments\\langchain\\venv\\lib\\site-packages (from langserve[all]) (0.104.1)\n",
      "Requirement already satisfied: httpx>=0.23.0 in d:\\virtual_environments\\langchain\\venv\\lib\\site-packages (from langserve[all]) (0.25.2)\n",
      "Requirement already satisfied: httpx-sse>=0.3.1 in d:\\virtual_environments\\langchain\\venv\\lib\\site-packages (from langserve[all]) (0.3.1)\n",
      "Requirement already satisfied: langchain>=0.0.333 in d:\\virtual_environments\\langchain\\venv\\lib\\site-packages (from langserve[all]) (0.0.348)\n",
      "Requirement already satisfied: orjson>=2 in d:\\virtual_environments\\langchain\\venv\\lib\\site-packages (from langserve[all]) (3.9.10)\n",
      "Requirement already satisfied: pydantic>=1 in d:\\virtual_environments\\langchain\\venv\\lib\\site-packages (from langserve[all]) (1.10.9)\n",
      "Requirement already satisfied: sse-starlette<2.0.0,>=1.3.0 in d:\\virtual_environments\\langchain\\venv\\lib\\site-packages (from langserve[all]) (1.8.2)\n",
      "Requirement already satisfied: anyio<4.0.0,>=3.7.1 in d:\\virtual_environments\\langchain\\venv\\lib\\site-packages (from fastapi<1,>=0.90.1->langserve[all]) (3.7.1)\n",
      "Requirement already satisfied: starlette<0.28.0,>=0.27.0 in d:\\virtual_environments\\langchain\\venv\\lib\\site-packages (from fastapi<1,>=0.90.1->langserve[all]) (0.27.0)\n",
      "Requirement already satisfied: typing-extensions>=4.8.0 in d:\\virtual_environments\\langchain\\venv\\lib\\site-packages (from fastapi<1,>=0.90.1->langserve[all]) (4.8.0)\n",
      "Requirement already satisfied: certifi in d:\\virtual_environments\\langchain\\venv\\lib\\site-packages (from httpx>=0.23.0->langserve[all]) (2023.11.17)\n",
      "Requirement already satisfied: httpcore==1.* in d:\\virtual_environments\\langchain\\venv\\lib\\site-packages (from httpx>=0.23.0->langserve[all]) (1.0.2)\n",
      "Requirement already satisfied: idna in d:\\virtual_environments\\langchain\\venv\\lib\\site-packages (from httpx>=0.23.0->langserve[all]) (3.6)\n",
      "Requirement already satisfied: sniffio in d:\\virtual_environments\\langchain\\venv\\lib\\site-packages (from httpx>=0.23.0->langserve[all]) (1.3.0)\n",
      "Requirement already satisfied: h11<0.15,>=0.13 in d:\\virtual_environments\\langchain\\venv\\lib\\site-packages (from httpcore==1.*->httpx>=0.23.0->langserve[all]) (0.14.0)\n",
      "Requirement already satisfied: PyYAML>=5.3 in d:\\virtual_environments\\langchain\\venv\\lib\\site-packages (from langchain>=0.0.333->langserve[all]) (6.0.1)\n",
      "Requirement already satisfied: SQLAlchemy<3,>=1.4 in d:\\virtual_environments\\langchain\\venv\\lib\\site-packages (from langchain>=0.0.333->langserve[all]) (2.0.23)\n",
      "Requirement already satisfied: aiohttp<4.0.0,>=3.8.3 in d:\\virtual_environments\\langchain\\venv\\lib\\site-packages (from langchain>=0.0.333->langserve[all]) (3.9.1)\n",
      "Requirement already satisfied: dataclasses-json<0.7,>=0.5.7 in d:\\virtual_environments\\langchain\\venv\\lib\\site-packages (from langchain>=0.0.333->langserve[all]) (0.6.3)\n",
      "Requirement already satisfied: jsonpatch<2.0,>=1.33 in d:\\virtual_environments\\langchain\\venv\\lib\\site-packages (from langchain>=0.0.333->langserve[all]) (1.33)\n",
      "Requirement already satisfied: langchain-core<0.1,>=0.0.12 in d:\\virtual_environments\\langchain\\venv\\lib\\site-packages (from langchain>=0.0.333->langserve[all]) (0.0.12)\n",
      "Requirement already satisfied: langsmith<0.1.0,>=0.0.63 in d:\\virtual_environments\\langchain\\venv\\lib\\site-packages (from langchain>=0.0.333->langserve[all]) (0.0.69)\n",
      "Requirement already satisfied: numpy<2,>=1 in d:\\virtual_environments\\langchain\\venv\\lib\\site-packages (from langchain>=0.0.333->langserve[all]) (1.26.2)\n",
      "Requirement already satisfied: requests<3,>=2 in d:\\virtual_environments\\langchain\\venv\\lib\\site-packages (from langchain>=0.0.333->langserve[all]) (2.31.0)\n",
      "Requirement already satisfied: tenacity<9.0.0,>=8.1.0 in d:\\virtual_environments\\langchain\\venv\\lib\\site-packages (from langchain>=0.0.333->langserve[all]) (8.2.3)\n",
      "Requirement already satisfied: uvicorn in d:\\virtual_environments\\langchain\\venv\\lib\\site-packages (from sse-starlette<2.0.0,>=1.3.0->langserve[all]) (0.23.2)\n",
      "Requirement already satisfied: attrs>=17.3.0 in d:\\virtual_environments\\langchain\\venv\\lib\\site-packages (from aiohttp<4.0.0,>=3.8.3->langchain>=0.0.333->langserve[all]) (23.1.0)\n",
      "Requirement already satisfied: multidict<7.0,>=4.5 in d:\\virtual_environments\\langchain\\venv\\lib\\site-packages (from aiohttp<4.0.0,>=3.8.3->langchain>=0.0.333->langserve[all]) (6.0.4)\n",
      "Requirement already satisfied: yarl<2.0,>=1.0 in d:\\virtual_environments\\langchain\\venv\\lib\\site-packages (from aiohttp<4.0.0,>=3.8.3->langchain>=0.0.333->langserve[all]) (1.9.4)\n",
      "Requirement already satisfied: frozenlist>=1.1.1 in d:\\virtual_environments\\langchain\\venv\\lib\\site-packages (from aiohttp<4.0.0,>=3.8.3->langchain>=0.0.333->langserve[all]) (1.4.0)\n",
      "Requirement already satisfied: aiosignal>=1.1.2 in d:\\virtual_environments\\langchain\\venv\\lib\\site-packages (from aiohttp<4.0.0,>=3.8.3->langchain>=0.0.333->langserve[all]) (1.3.1)\n",
      "Requirement already satisfied: marshmallow<4.0.0,>=3.18.0 in d:\\virtual_environments\\langchain\\venv\\lib\\site-packages (from dataclasses-json<0.7,>=0.5.7->langchain>=0.0.333->langserve[all]) (3.20.1)\n",
      "Requirement already satisfied: typing-inspect<1,>=0.4.0 in d:\\virtual_environments\\langchain\\venv\\lib\\site-packages (from dataclasses-json<0.7,>=0.5.7->langchain>=0.0.333->langserve[all]) (0.9.0)\n",
      "Requirement already satisfied: jsonpointer>=1.9 in d:\\virtual_environments\\langchain\\venv\\lib\\site-packages (from jsonpatch<2.0,>=1.33->langchain>=0.0.333->langserve[all]) (2.4)\n",
      "Requirement already satisfied: packaging<24.0,>=23.2 in d:\\virtual_environments\\langchain\\venv\\lib\\site-packages (from langchain-core<0.1,>=0.0.12->langchain>=0.0.333->langserve[all]) (23.2)\n",
      "Requirement already satisfied: charset-normalizer<4,>=2 in d:\\virtual_environments\\langchain\\venv\\lib\\site-packages (from requests<3,>=2->langchain>=0.0.333->langserve[all]) (3.3.2)\n",
      "Requirement already satisfied: urllib3<3,>=1.21.1 in d:\\virtual_environments\\langchain\\venv\\lib\\site-packages (from requests<3,>=2->langchain>=0.0.333->langserve[all]) (2.1.0)\n",
      "Requirement already satisfied: greenlet!=0.4.17 in d:\\virtual_environments\\langchain\\venv\\lib\\site-packages (from SQLAlchemy<3,>=1.4->langchain>=0.0.333->langserve[all]) (3.0.1)\n",
      "Requirement already satisfied: click>=7.0 in d:\\virtual_environments\\langchain\\venv\\lib\\site-packages (from uvicorn->sse-starlette<2.0.0,>=1.3.0->langserve[all]) (8.1.7)\n",
      "Requirement already satisfied: colorama in d:\\virtual_environments\\langchain\\venv\\lib\\site-packages (from click>=7.0->uvicorn->sse-starlette<2.0.0,>=1.3.0->langserve[all]) (0.4.6)\n",
      "Requirement already satisfied: mypy-extensions>=0.3.0 in d:\\virtual_environments\\langchain\\venv\\lib\\site-packages (from typing-inspect<1,>=0.4.0->dataclasses-json<0.7,>=0.5.7->langchain>=0.0.333->langserve[all]) (1.0.0)\n",
      "Note: you may need to restart the kernel to use updated packages.\n",
      "Requirement already satisfied: langchain-cli in d:\\virtual_environments\\langchain\\venv\\lib\\site-packages (0.0.19)\n",
      "Requirement already satisfied: gitpython<4.0.0,>=3.1.40 in d:\\virtual_environments\\langchain\\venv\\lib\\site-packages (from langchain-cli) (3.1.40)\n",
      "Requirement already satisfied: langserve>=0.0.16 in d:\\virtual_environments\\langchain\\venv\\lib\\site-packages (from langserve[all]>=0.0.16->langchain-cli) (0.0.34)\n",
      "Requirement already satisfied: tomlkit<0.13.0,>=0.12.2 in d:\\virtual_environments\\langchain\\venv\\lib\\site-packages (from langchain-cli) (0.12.3)\n",
      "Requirement already satisfied: typer<0.10.0,>=0.9.0 in d:\\virtual_environments\\langchain\\venv\\lib\\site-packages (from typer[all]<0.10.0,>=0.9.0->langchain-cli) (0.9.0)\n",
      "Requirement already satisfied: uvicorn<0.24.0,>=0.23.2 in d:\\virtual_environments\\langchain\\venv\\lib\\site-packages (from langchain-cli) (0.23.2)\n",
      "Requirement already satisfied: gitdb<5,>=4.0.1 in d:\\virtual_environments\\langchain\\venv\\lib\\site-packages (from gitpython<4.0.0,>=3.1.40->langchain-cli) (4.0.11)\n",
      "Requirement already satisfied: httpx>=0.23.0 in d:\\virtual_environments\\langchain\\venv\\lib\\site-packages (from langserve>=0.0.16->langserve[all]>=0.0.16->langchain-cli) (0.25.2)\n",
      "Requirement already satisfied: langchain>=0.0.333 in d:\\virtual_environments\\langchain\\venv\\lib\\site-packages (from langserve>=0.0.16->langserve[all]>=0.0.16->langchain-cli) (0.0.348)\n",
      "Requirement already satisfied: orjson>=2 in d:\\virtual_environments\\langchain\\venv\\lib\\site-packages (from langserve>=0.0.16->langserve[all]>=0.0.16->langchain-cli) (3.9.10)\n",
      "Requirement already satisfied: pydantic>=1 in d:\\virtual_environments\\langchain\\venv\\lib\\site-packages (from langserve>=0.0.16->langserve[all]>=0.0.16->langchain-cli) (1.10.9)\n",
      "Requirement already satisfied: fastapi<1,>=0.90.1 in d:\\virtual_environments\\langchain\\venv\\lib\\site-packages (from langserve[all]>=0.0.16->langchain-cli) (0.104.1)\n",
      "Requirement already satisfied: httpx-sse>=0.3.1 in d:\\virtual_environments\\langchain\\venv\\lib\\site-packages (from langserve[all]>=0.0.16->langchain-cli) (0.3.1)\n",
      "Requirement already satisfied: sse-starlette<2.0.0,>=1.3.0 in d:\\virtual_environments\\langchain\\venv\\lib\\site-packages (from langserve[all]>=0.0.16->langchain-cli) (1.8.2)\n",
      "Requirement already satisfied: click<9.0.0,>=7.1.1 in d:\\virtual_environments\\langchain\\venv\\lib\\site-packages (from typer<0.10.0,>=0.9.0->typer[all]<0.10.0,>=0.9.0->langchain-cli) (8.1.7)\n",
      "Requirement already satisfied: typing-extensions>=3.7.4.3 in d:\\virtual_environments\\langchain\\venv\\lib\\site-packages (from typer<0.10.0,>=0.9.0->typer[all]<0.10.0,>=0.9.0->langchain-cli) (4.8.0)\n",
      "Requirement already satisfied: colorama<0.5.0,>=0.4.3 in d:\\virtual_environments\\langchain\\venv\\lib\\site-packages (from typer[all]<0.10.0,>=0.9.0->langchain-cli) (0.4.6)\n",
      "Requirement already satisfied: shellingham<2.0.0,>=1.3.0 in d:\\virtual_environments\\langchain\\venv\\lib\\site-packages (from typer[all]<0.10.0,>=0.9.0->langchain-cli) (1.5.4)\n",
      "Requirement already satisfied: rich<14.0.0,>=10.11.0 in d:\\virtual_environments\\langchain\\venv\\lib\\site-packages (from typer[all]<0.10.0,>=0.9.0->langchain-cli) (13.7.0)\n",
      "Requirement already satisfied: h11>=0.8 in d:\\virtual_environments\\langchain\\venv\\lib\\site-packages (from uvicorn<0.24.0,>=0.23.2->langchain-cli) (0.14.0)\n",
      "Requirement already satisfied: anyio<4.0.0,>=3.7.1 in d:\\virtual_environments\\langchain\\venv\\lib\\site-packages (from fastapi<1,>=0.90.1->langserve[all]>=0.0.16->langchain-cli) (3.7.1)\n",
      "Requirement already satisfied: starlette<0.28.0,>=0.27.0 in d:\\virtual_environments\\langchain\\venv\\lib\\site-packages (from fastapi<1,>=0.90.1->langserve[all]>=0.0.16->langchain-cli) (0.27.0)\n",
      "Requirement already satisfied: smmap<6,>=3.0.1 in d:\\virtual_environments\\langchain\\venv\\lib\\site-packages (from gitdb<5,>=4.0.1->gitpython<4.0.0,>=3.1.40->langchain-cli) (5.0.1)\n",
      "Requirement already satisfied: certifi in d:\\virtual_environments\\langchain\\venv\\lib\\site-packages (from httpx>=0.23.0->langserve>=0.0.16->langserve[all]>=0.0.16->langchain-cli) (2023.11.17)\n",
      "Requirement already satisfied: httpcore==1.* in d:\\virtual_environments\\langchain\\venv\\lib\\site-packages (from httpx>=0.23.0->langserve>=0.0.16->langserve[all]>=0.0.16->langchain-cli) (1.0.2)\n",
      "Requirement already satisfied: idna in d:\\virtual_environments\\langchain\\venv\\lib\\site-packages (from httpx>=0.23.0->langserve>=0.0.16->langserve[all]>=0.0.16->langchain-cli) (3.6)\n",
      "Requirement already satisfied: sniffio in d:\\virtual_environments\\langchain\\venv\\lib\\site-packages (from httpx>=0.23.0->langserve>=0.0.16->langserve[all]>=0.0.16->langchain-cli) (1.3.0)\n",
      "Requirement already satisfied: PyYAML>=5.3 in d:\\virtual_environments\\langchain\\venv\\lib\\site-packages (from langchain>=0.0.333->langserve>=0.0.16->langserve[all]>=0.0.16->langchain-cli) (6.0.1)\n",
      "Requirement already satisfied: SQLAlchemy<3,>=1.4 in d:\\virtual_environments\\langchain\\venv\\lib\\site-packages (from langchain>=0.0.333->langserve>=0.0.16->langserve[all]>=0.0.16->langchain-cli) (2.0.23)\n",
      "Requirement already satisfied: aiohttp<4.0.0,>=3.8.3 in d:\\virtual_environments\\langchain\\venv\\lib\\site-packages (from langchain>=0.0.333->langserve>=0.0.16->langserve[all]>=0.0.16->langchain-cli) (3.9.1)\n",
      "Requirement already satisfied: dataclasses-json<0.7,>=0.5.7 in d:\\virtual_environments\\langchain\\venv\\lib\\site-packages (from langchain>=0.0.333->langserve>=0.0.16->langserve[all]>=0.0.16->langchain-cli) (0.6.3)\n",
      "Requirement already satisfied: jsonpatch<2.0,>=1.33 in d:\\virtual_environments\\langchain\\venv\\lib\\site-packages (from langchain>=0.0.333->langserve>=0.0.16->langserve[all]>=0.0.16->langchain-cli) (1.33)\n",
      "Requirement already satisfied: langchain-core<0.1,>=0.0.12 in d:\\virtual_environments\\langchain\\venv\\lib\\site-packages (from langchain>=0.0.333->langserve>=0.0.16->langserve[all]>=0.0.16->langchain-cli) (0.0.12)\n",
      "Requirement already satisfied: langsmith<0.1.0,>=0.0.63 in d:\\virtual_environments\\langchain\\venv\\lib\\site-packages (from langchain>=0.0.333->langserve>=0.0.16->langserve[all]>=0.0.16->langchain-cli) (0.0.69)\n",
      "Requirement already satisfied: numpy<2,>=1 in d:\\virtual_environments\\langchain\\venv\\lib\\site-packages (from langchain>=0.0.333->langserve>=0.0.16->langserve[all]>=0.0.16->langchain-cli) (1.26.2)\n",
      "Requirement already satisfied: requests<3,>=2 in d:\\virtual_environments\\langchain\\venv\\lib\\site-packages (from langchain>=0.0.333->langserve>=0.0.16->langserve[all]>=0.0.16->langchain-cli) (2.31.0)\n",
      "Requirement already satisfied: tenacity<9.0.0,>=8.1.0 in d:\\virtual_environments\\langchain\\venv\\lib\\site-packages (from langchain>=0.0.333->langserve>=0.0.16->langserve[all]>=0.0.16->langchain-cli) (8.2.3)\n",
      "Requirement already satisfied: markdown-it-py>=2.2.0 in d:\\virtual_environments\\langchain\\venv\\lib\\site-packages (from rich<14.0.0,>=10.11.0->typer[all]<0.10.0,>=0.9.0->langchain-cli) (3.0.0)\n",
      "Requirement already satisfied: pygments<3.0.0,>=2.13.0 in d:\\virtual_environments\\langchain\\venv\\lib\\site-packages (from rich<14.0.0,>=10.11.0->typer[all]<0.10.0,>=0.9.0->langchain-cli) (2.17.2)\n",
      "Requirement already satisfied: attrs>=17.3.0 in d:\\virtual_environments\\langchain\\venv\\lib\\site-packages (from aiohttp<4.0.0,>=3.8.3->langchain>=0.0.333->langserve>=0.0.16->langserve[all]>=0.0.16->langchain-cli) (23.1.0)\n",
      "Requirement already satisfied: multidict<7.0,>=4.5 in d:\\virtual_environments\\langchain\\venv\\lib\\site-packages (from aiohttp<4.0.0,>=3.8.3->langchain>=0.0.333->langserve>=0.0.16->langserve[all]>=0.0.16->langchain-cli) (6.0.4)\n",
      "Requirement already satisfied: yarl<2.0,>=1.0 in d:\\virtual_environments\\langchain\\venv\\lib\\site-packages (from aiohttp<4.0.0,>=3.8.3->langchain>=0.0.333->langserve>=0.0.16->langserve[all]>=0.0.16->langchain-cli) (1.9.4)\n",
      "Requirement already satisfied: frozenlist>=1.1.1 in d:\\virtual_environments\\langchain\\venv\\lib\\site-packages (from aiohttp<4.0.0,>=3.8.3->langchain>=0.0.333->langserve>=0.0.16->langserve[all]>=0.0.16->langchain-cli) (1.4.0)\n",
      "Requirement already satisfied: aiosignal>=1.1.2 in d:\\virtual_environments\\langchain\\venv\\lib\\site-packages (from aiohttp<4.0.0,>=3.8.3->langchain>=0.0.333->langserve>=0.0.16->langserve[all]>=0.0.16->langchain-cli) (1.3.1)\n",
      "Requirement already satisfied: marshmallow<4.0.0,>=3.18.0 in d:\\virtual_environments\\langchain\\venv\\lib\\site-packages (from dataclasses-json<0.7,>=0.5.7->langchain>=0.0.333->langserve>=0.0.16->langserve[all]>=0.0.16->langchain-cli) (3.20.1)\n",
      "Requirement already satisfied: typing-inspect<1,>=0.4.0 in d:\\virtual_environments\\langchain\\venv\\lib\\site-packages (from dataclasses-json<0.7,>=0.5.7->langchain>=0.0.333->langserve>=0.0.16->langserve[all]>=0.0.16->langchain-cli) (0.9.0)\n",
      "Requirement already satisfied: jsonpointer>=1.9 in d:\\virtual_environments\\langchain\\venv\\lib\\site-packages (from jsonpatch<2.0,>=1.33->langchain>=0.0.333->langserve>=0.0.16->langserve[all]>=0.0.16->langchain-cli) (2.4)\n",
      "Requirement already satisfied: packaging<24.0,>=23.2 in d:\\virtual_environments\\langchain\\venv\\lib\\site-packages (from langchain-core<0.1,>=0.0.12->langchain>=0.0.333->langserve>=0.0.16->langserve[all]>=0.0.16->langchain-cli) (23.2)\n",
      "Requirement already satisfied: mdurl~=0.1 in d:\\virtual_environments\\langchain\\venv\\lib\\site-packages (from markdown-it-py>=2.2.0->rich<14.0.0,>=10.11.0->typer[all]<0.10.0,>=0.9.0->langchain-cli) (0.1.2)\n",
      "Requirement already satisfied: charset-normalizer<4,>=2 in d:\\virtual_environments\\langchain\\venv\\lib\\site-packages (from requests<3,>=2->langchain>=0.0.333->langserve>=0.0.16->langserve[all]>=0.0.16->langchain-cli) (3.3.2)\n",
      "Requirement already satisfied: urllib3<3,>=1.21.1 in d:\\virtual_environments\\langchain\\venv\\lib\\site-packages (from requests<3,>=2->langchain>=0.0.333->langserve>=0.0.16->langserve[all]>=0.0.16->langchain-cli) (2.1.0)\n",
      "Requirement already satisfied: greenlet!=0.4.17 in d:\\virtual_environments\\langchain\\venv\\lib\\site-packages (from SQLAlchemy<3,>=1.4->langchain>=0.0.333->langserve>=0.0.16->langserve[all]>=0.0.16->langchain-cli) (3.0.1)\n",
      "Requirement already satisfied: mypy-extensions>=0.3.0 in d:\\virtual_environments\\langchain\\venv\\lib\\site-packages (from typing-inspect<1,>=0.4.0->dataclasses-json<0.7,>=0.5.7->langchain>=0.0.333->langserve>=0.0.16->langserve[all]>=0.0.16->langchain-cli) (1.0.0)\n",
      "Note: you may need to restart the kernel to use updated packages.\n",
      "Requirement already satisfied: langchain in d:\\virtual_environments\\langchain\\venv\\lib\\site-packages (0.0.348)\n",
      "Requirement already satisfied: docarray in d:\\virtual_environments\\langchain\\venv\\lib\\site-packages (0.39.1)\n",
      "Requirement already satisfied: PyYAML>=5.3 in d:\\virtual_environments\\langchain\\venv\\lib\\site-packages (from langchain) (6.0.1)\n",
      "Requirement already satisfied: SQLAlchemy<3,>=1.4 in d:\\virtual_environments\\langchain\\venv\\lib\\site-packages (from langchain) (2.0.23)\n",
      "Requirement already satisfied: aiohttp<4.0.0,>=3.8.3 in d:\\virtual_environments\\langchain\\venv\\lib\\site-packages (from langchain) (3.9.1)\n",
      "Requirement already satisfied: dataclasses-json<0.7,>=0.5.7 in d:\\virtual_environments\\langchain\\venv\\lib\\site-packages (from langchain) (0.6.3)\n",
      "Requirement already satisfied: jsonpatch<2.0,>=1.33 in d:\\virtual_environments\\langchain\\venv\\lib\\site-packages (from langchain) (1.33)\n",
      "Requirement already satisfied: langchain-core<0.1,>=0.0.12 in d:\\virtual_environments\\langchain\\venv\\lib\\site-packages (from langchain) (0.0.12)\n",
      "Requirement already satisfied: langsmith<0.1.0,>=0.0.63 in d:\\virtual_environments\\langchain\\venv\\lib\\site-packages (from langchain) (0.0.69)\n",
      "Requirement already satisfied: numpy<2,>=1 in d:\\virtual_environments\\langchain\\venv\\lib\\site-packages (from langchain) (1.26.2)\n",
      "Requirement already satisfied: pydantic<3,>=1 in d:\\virtual_environments\\langchain\\venv\\lib\\site-packages (from langchain) (1.10.9)\n",
      "Requirement already satisfied: requests<3,>=2 in d:\\virtual_environments\\langchain\\venv\\lib\\site-packages (from langchain) (2.31.0)\n",
      "Requirement already satisfied: tenacity<9.0.0,>=8.1.0 in d:\\virtual_environments\\langchain\\venv\\lib\\site-packages (from langchain) (8.2.3)\n",
      "Requirement already satisfied: orjson>=3.8.2 in d:\\virtual_environments\\langchain\\venv\\lib\\site-packages (from docarray) (3.9.10)\n",
      "Requirement already satisfied: rich>=13.1.0 in d:\\virtual_environments\\langchain\\venv\\lib\\site-packages (from docarray) (13.7.0)\n",
      "Requirement already satisfied: types-requests>=2.28.11.6 in d:\\virtual_environments\\langchain\\venv\\lib\\site-packages (from docarray) (2.31.0.10)\n",
      "Requirement already satisfied: typing-inspect>=0.8.0 in d:\\virtual_environments\\langchain\\venv\\lib\\site-packages (from docarray) (0.9.0)\n",
      "Requirement already satisfied: attrs>=17.3.0 in d:\\virtual_environments\\langchain\\venv\\lib\\site-packages (from aiohttp<4.0.0,>=3.8.3->langchain) (23.1.0)\n",
      "Requirement already satisfied: multidict<7.0,>=4.5 in d:\\virtual_environments\\langchain\\venv\\lib\\site-packages (from aiohttp<4.0.0,>=3.8.3->langchain) (6.0.4)\n",
      "Requirement already satisfied: yarl<2.0,>=1.0 in d:\\virtual_environments\\langchain\\venv\\lib\\site-packages (from aiohttp<4.0.0,>=3.8.3->langchain) (1.9.4)\n",
      "Requirement already satisfied: frozenlist>=1.1.1 in d:\\virtual_environments\\langchain\\venv\\lib\\site-packages (from aiohttp<4.0.0,>=3.8.3->langchain) (1.4.0)\n",
      "Requirement already satisfied: aiosignal>=1.1.2 in d:\\virtual_environments\\langchain\\venv\\lib\\site-packages (from aiohttp<4.0.0,>=3.8.3->langchain) (1.3.1)\n",
      "Requirement already satisfied: marshmallow<4.0.0,>=3.18.0 in d:\\virtual_environments\\langchain\\venv\\lib\\site-packages (from dataclasses-json<0.7,>=0.5.7->langchain) (3.20.1)\n",
      "Requirement already satisfied: jsonpointer>=1.9 in d:\\virtual_environments\\langchain\\venv\\lib\\site-packages (from jsonpatch<2.0,>=1.33->langchain) (2.4)\n",
      "Requirement already satisfied: anyio<5,>=3 in d:\\virtual_environments\\langchain\\venv\\lib\\site-packages (from langchain-core<0.1,>=0.0.12->langchain) (3.7.1)\n",
      "Requirement already satisfied: packaging<24.0,>=23.2 in d:\\virtual_environments\\langchain\\venv\\lib\\site-packages (from langchain-core<0.1,>=0.0.12->langchain) (23.2)\n",
      "Requirement already satisfied: typing-extensions>=4.2.0 in d:\\virtual_environments\\langchain\\venv\\lib\\site-packages (from pydantic<3,>=1->langchain) (4.8.0)\n",
      "Requirement already satisfied: charset-normalizer<4,>=2 in d:\\virtual_environments\\langchain\\venv\\lib\\site-packages (from requests<3,>=2->langchain) (3.3.2)\n",
      "Requirement already satisfied: idna<4,>=2.5 in d:\\virtual_environments\\langchain\\venv\\lib\\site-packages (from requests<3,>=2->langchain) (3.6)\n",
      "Requirement already satisfied: urllib3<3,>=1.21.1 in d:\\virtual_environments\\langchain\\venv\\lib\\site-packages (from requests<3,>=2->langchain) (2.1.0)\n",
      "Requirement already satisfied: certifi>=2017.4.17 in d:\\virtual_environments\\langchain\\venv\\lib\\site-packages (from requests<3,>=2->langchain) (2023.11.17)\n",
      "Requirement already satisfied: markdown-it-py>=2.2.0 in d:\\virtual_environments\\langchain\\venv\\lib\\site-packages (from rich>=13.1.0->docarray) (3.0.0)\n",
      "Requirement already satisfied: pygments<3.0.0,>=2.13.0 in d:\\virtual_environments\\langchain\\venv\\lib\\site-packages (from rich>=13.1.0->docarray) (2.17.2)\n",
      "Requirement already satisfied: greenlet!=0.4.17 in d:\\virtual_environments\\langchain\\venv\\lib\\site-packages (from SQLAlchemy<3,>=1.4->langchain) (3.0.1)\n",
      "Requirement already satisfied: mypy-extensions>=0.3.0 in d:\\virtual_environments\\langchain\\venv\\lib\\site-packages (from typing-inspect>=0.8.0->docarray) (1.0.0)\n",
      "Requirement already satisfied: sniffio>=1.1 in d:\\virtual_environments\\langchain\\venv\\lib\\site-packages (from anyio<5,>=3->langchain-core<0.1,>=0.0.12->langchain) (1.3.0)\n",
      "Requirement already satisfied: mdurl~=0.1 in d:\\virtual_environments\\langchain\\venv\\lib\\site-packages (from markdown-it-py>=2.2.0->rich>=13.1.0->docarray) (0.1.2)\n",
      "Note: you may need to restart the kernel to use updated packages.\n"
     ]
    }
   ],
   "source": [
    "%pip install openai\n",
    "%pip install tiktoken\n",
    "%pip install langchain\n",
    "%pip install langchain-cli\n",
    "%pip install langchain docarray\n",
    "\n",
    "#En caso de error\n",
    "#%pip install pydantic==1.10.9"
   ]
  },
  {
   "cell_type": "code",
   "execution_count": 74,
   "metadata": {},
   "outputs": [],
   "source": [
    "from typing import List\n",
    "\n",
    "from langchain.llms import OpenAI\n",
    "from langchain.schema import HumanMessage, AIMessage\n",
    "from langchain.chat_models import ChatOpenAI\n",
    "from langchain.embeddings import OpenAIEmbeddings\n",
    "from langchain.prompts import ChatPromptTemplate\n",
    "from langchain.schema.output_parser import StrOutputParser\n",
    "from langchain.schema import BaseOutputParser\n",
    "from langchain.schema.runnable import RunnableParallel, RunnablePassthrough\n",
    "from langchain.vectorstores import DocArrayInMemorySearch"
   ]
  },
  {
   "cell_type": "markdown",
   "metadata": {},
   "source": [
    "## Sección 1 - Primeros pasos"
   ]
  },
  {
   "cell_type": "markdown",
   "metadata": {},
   "source": [
    "### 1.1 Ejemplo sencillo de llamadas a modelos (GPT)\n",
    "LangChain dispone de dos métodos para llamar a los modelos LLM como GPT: **Modo Texto** y **Modo Chat**"
   ]
  },
  {
   "cell_type": "markdown",
   "metadata": {},
   "source": [
    "**Modo texto:**\n",
    "Toma un texto de entrada (por ejemplo una pregunta) y devuelve una respuesta de tipo texto."
   ]
  },
  {
   "cell_type": "code",
   "execution_count": 75,
   "metadata": {},
   "outputs": [
    {
     "name": "stdout",
     "output_type": "stream",
     "text": [
      "<class 'str'>\n",
      "\n",
      "\n",
      "Sí, Java es un lenguaje de programación orientado a objetos. Esto significa que los programas en Java están estructurados alrededor de objetos, en lugar de acciones y lógica. Los objetos contienen datos en forma de variables y funciones en forma de métodos. Esto permite a los programadores crear código que sea reutilizable y mantenible.\n"
     ]
    }
   ],
   "source": [
    "\n",
    "\n",
    "llm = OpenAI()\n",
    "text = \"Java es un lenguaje orientado a Objetos?\"\n",
    "result = llm.invoke(text)\n",
    "print(type(result)) #el tipo devuelto es un string\n",
    "print(result)"
   ]
  },
  {
   "cell_type": "markdown",
   "metadata": {},
   "source": [
    "**Modo Chat:**\n",
    "\n",
    "#Modo chat: se le envía un mensaje con una lista de entradas con el formato [Rol - contenido] y devuelve una respuesta de tipo Mensaje.\n",
    "\n",
    "En Langchain existen algunos roles predeterminandos:\n",
    "\n",
    "- **HumanMessage:** Para un mensaje que viene de un humano/usuario.\n",
    "- **AIMessage:** Para un mensaje aportado por la AI/assistant.\n",
    "- **SystemMessage:** Para un mensaje del sistema\n",
    "- **FunctionMessage / ToolMessage:**  Un mensaje que contiene la salida de una función, API, etc.\n",
    "\n",
    "Tambien puede configurar un rol específico a través de la clase ChatMessage."
   ]
  },
  {
   "cell_type": "code",
   "execution_count": 76,
   "metadata": {},
   "outputs": [
    {
     "name": "stdout",
     "output_type": "stream",
     "text": [
      "<class 'langchain_core.messages.ai.AIMessage'>\n",
      "content='Sí, Java es un lenguaje de programación orientado a objetos. Esto significa que está diseñado para modelar el mundo real mediante la creación de objetos que tienen propiedades y comportamientos. En Java, todo es un objeto, excepto los tipos primitivos como int, boolean, etc. La programación orientada a objetos en Java se centra en la encapsulación, la herencia y el polimorfismo para organizar y estructurar el código de manera eficiente y modular.'\n"
     ]
    }
   ],
   "source": [
    "#Modo chat: se le envía un mensaje con una lista de entradas con [Rol - texto] y devuelve una respuesta de tipo Mensaje.\n",
    "chat_model = ChatOpenAI()\n",
    "IAText=\"Soy un experto en Java\"\n",
    "HumanText=\"¿Java es un lenguaje orientado a Objetos?\"\n",
    "messages = [AIMessage(content=IAText), \n",
    "            HumanMessage(content=HumanText)]\n",
    "\n",
    "result = chat_model.invoke(messages)\n",
    "print(type(result)) #el tipo devuelto es un IAMessage, que tiene un campo content que es un string\n",
    "print(result)"
   ]
  },
  {
   "cell_type": "markdown",
   "metadata": {},
   "source": [
    "### Sección 1.2 - Prompt templates\n",
    "Normalmente  no solemos pasar mensajes(prompts) simples a los modelos LLMs. Lo más común es pasar contexto y/o instrucciones adicionales para optimizar el resultado. En causisticas donde se requieran lanzar prompts muy similares podemos usar plantillas, por ejemplo:\n",
    "\n",
    "- **Ejemplo Prompt 1**: \"como experto en Python, explicame el siguiente código:\"messages = [AIMessage(content=IAText)\"\n",
    "- **Ejemplo Prompt 2**: \"como experto en Java, explicame el siguiente código:\"public ResponseEntity<String> getPetById(@PathVariable Long petId)\"\n",
    "\n",
    "Como podemos ver, este tipo de Prompt puede ser muy recurrente en un contexto de desarrollo software. Por ello, podemos construir una Template Prompt:\n",
    "\n",
    "- **Prompt Template**: \"como experto en {lenguaje}, explicame el siguiente código: {codigo}\"\n",
    "\n",
    "veamos un ejemplo:\n"
   ]
  },
  {
   "cell_type": "code",
   "execution_count": 77,
   "metadata": {},
   "outputs": [
    {
     "name": "stdout",
     "output_type": "stream",
     "text": [
      "mensaje formateado: [SystemMessage(content='eres un experto en Python'), HumanMessage(content='Como experto en Python, explicame que hace el siguiente código: messages = [AIMessage(content=IAText)]')]\n",
      "resultado: content='El código que has proporcionado crea una lista llamada \"messages\" que contiene un objeto AIMessage. El objeto AIMessage parece ser una entidad de mensaje de una API o biblioteca externa.\\n\\nDentro del objeto AIMessage, hay un atributo llamado \"content\" que se establece en \"IAText\". Esto sugiere que \"IAText\" es una variable o valor que contiene el contenido del mensaje.\\n\\nEn resumen, el código crea una lista que contiene un único objeto AIMessage con un atributo \"content\" establecido en \"IAText\".'\n",
      "El tipo del resultado es: <class 'langchain_core.messages.ai.AIMessage'>\n"
     ]
    }
   ],
   "source": [
    "#Modo chat: se le envía un mensaje con una lista de entradas con [Rol - texto] y devuelve una respuesta de tipo Mensaje.\n",
    "\n",
    "chat_model = ChatOpenAI()\n",
    "AssistantTemplate=\"eres un experto en {language}\"\n",
    "HumanTemplate=\"Como experto en {language}, explicame que hace el siguiente código: {codigo}\"\n",
    "\n",
    "\n",
    "chat_prompt = ChatPromptTemplate.from_messages([\n",
    "    (\"system\", AssistantTemplate),\n",
    "    (\"human\", HumanTemplate),\n",
    "])\n",
    "\n",
    "#usamos format_messages para mapear los valores específicos en la plantilla\n",
    "message = chat_prompt.format_messages(language='Python', codigo=\"messages = [AIMessage(content=IAText)]\")\n",
    "print(\"mensaje formateado:\", message)\n",
    "\n",
    "#invocamos el modelo con el mensaje final ya formateado y mapeado con los valores específicos: Python, la traza y el código\n",
    "result = chat_model.invoke(message)\n",
    "\n",
    "print(\"resultado:\", result)\n",
    "print(\"El tipo del resultado es:\", type(result))"
   ]
  },
  {
   "cell_type": "markdown",
   "metadata": {},
   "source": [
    "Como podemos ver, **el resultado no es un String**, es un tipo message de Langchain(AIMessage) con el formato: conten: respuesta. ¿y si quisera convertir la salida a string?"
   ]
  },
  {
   "cell_type": "markdown",
   "metadata": {},
   "source": [
    "### Sección 1.3 - Output parsers\n",
    "\n",
    "Otras de las capacidades de LangChain es la facilidad con la que podemos adatpar la salida el tipo de dato que necesitamos. Haciendo uso de la la clase BaseOutputParser, podemos usar parseadores predefinidos o crear uno propio."
   ]
  },
  {
   "cell_type": "markdown",
   "metadata": {},
   "source": [
    "En el siguiente ejemplo, vamos a parsear el resultado anterior con el parse predefinido StrOutputParser() para convertirlo en un String:"
   ]
  },
  {
   "cell_type": "code",
   "execution_count": 78,
   "metadata": {},
   "outputs": [
    {
     "name": "stdout",
     "output_type": "stream",
     "text": [
      "El tipo del resultado es: <class 'str'>\n",
      "El resultado es: El código que has proporcionado crea una lista llamada \"messages\" que contiene un objeto AIMessage. El objeto AIMessage parece ser una entidad de mensaje de una API o biblioteca externa.\n",
      "\n",
      "Dentro del objeto AIMessage, hay un atributo llamado \"content\" que se establece en \"IAText\". Esto sugiere que \"IAText\" es una variable o valor que contiene el contenido del mensaje.\n",
      "\n",
      "En resumen, el código crea una lista que contiene un único objeto AIMessage con un atributo \"content\" establecido en \"IAText\".\n"
     ]
    }
   ],
   "source": [
    "parserResult = StrOutputParser().invoke(result)\n",
    "print(\"El tipo del resultado es:\", type(parserResult))\n",
    "print(\"El resultado es:\", parserResult)"
   ]
  },
  {
   "cell_type": "markdown",
   "metadata": {},
   "source": [
    "En el siguiente ejemplo crearemos un parseador de salida específico para convertir un string a una lista de strings separada por \",\". "
   ]
  },
  {
   "cell_type": "code",
   "execution_count": 79,
   "metadata": {},
   "outputs": [
    {
     "data": {
      "text/plain": [
       "['Argentina', 'Brasil', 'Colombia', 'México', 'Perú']"
      ]
     },
     "execution_count": 79,
     "metadata": {},
     "output_type": "execute_result"
    }
   ],
   "source": [
    "class CommaSeparatedListOutputParser(BaseOutputParser[List[str]]):\n",
    "    \"\"\"Parse the output of an LLM call to a comma-separated list.\"\"\"\n",
    "\n",
    "    def parse(self, text: str) -> List[str]:\n",
    "        \"\"\"Parse the output of an LLM call.\"\"\"\n",
    "        return text.strip().split(\", \")\n",
    "    \n",
    "template = \"\"\"You are a helpful assistant who generates comma separated lists.\n",
    "A user will pass in a category, and you should generate 5 objects in that category in a comma separated list.\n",
    "ONLY return a comma separated list, and nothing more.\"\"\"\n",
    "\n",
    "\"\"\"Eres un asistente útil que genera listas separadas por comas.\n",
    "Un usuario pasará una categoría y deberías generar 5 objetos en esa categoría en una lista separada por comas.\n",
    "SOLO devuelve una lista separada por comas, y nada más.\"\"\"\n",
    "\n",
    "human_template = \"{text}\"\n",
    "\n",
    "chat_prompt = ChatPromptTemplate.from_messages([\n",
    "    (\"system\", template),\n",
    "    (\"human\", human_template),\n",
    "])\n",
    "chain = chat_prompt | ChatOpenAI() | CommaSeparatedListOutputParser()\n",
    "chain.invoke({\"text\": \"paises\"})"
   ]
  },
  {
   "cell_type": "markdown",
   "metadata": {},
   "source": [
    "En este caso el resutado no es ni un mensaje ni un string. Es una lista de strings con el siguiente formato: *['Mexico', 'Canada', 'Brazil', 'Australia', 'France']*. Esto es porque hemos usado el parseador CommaSeparatedListOutputParser.\n",
    "\n",
    "En este caso, para parsear el resultado se ha usado la instrucción: *chat_prompt | ChatOpenAI() | CommaSeparatedListOutputParser()* pero ¿qué hace esto? ¿como funciona el operador |? resolveremos esas dudas en la siguiente sección."
   ]
  },
  {
   "cell_type": "markdown",
   "metadata": {},
   "source": [
    "## Sección 2 - (LCEL) LangChain Expression Language"
   ]
  },
  {
   "cell_type": "markdown",
   "metadata": {},
   "source": [
    "El lenguaje LCEL nos permite, por ejemplo, encadenar una serie acciones en una sola línea con el comando | como vimos en la instrucción:\n",
    " \n",
    " *chat_prompt | ChatOpenAI() | CommaSeparatedListOutputParser()* \n",
    " \n",
    " Usando LCEL se reduce significativamente el número de líneas de codigo necesarias para construir una funcionalidad. En este caso, al cuando usamos el método invoke se pasa el valor de la variable text (paises) a la Prompt Template, despues se ejecuta el modelo a partir de la Prompt generada por la template, y por último se realiza el parseo de la salida del modelo a una lista separada por comas. Es decir, se ejecutan de izquierda a derecha todas las acciones dentro del Pipeline:\n",
    "\n",
    "*chain = chat_prompt | ChatOpenAI() | CommaSeparatedListOutputParser()*\n",
    "\n",
    "*chain.invoke({\"text\": \"paises\"})*\n",
    "\n",
    "Veamos un ejemplo paso a paso:\n",
    "\n",
    "\n"
   ]
  },
  {
   "cell_type": "code",
   "execution_count": 80,
   "metadata": {},
   "outputs": [
    {
     "data": {
      "text/plain": [
       "AIMessage(content='Había una vez un perro llamado Max, que vivía en un pequeño pueblo junto a su dueño, Juan. Max era un perro muy juguetón y le encantaba explorar cada rincón del pueblo.\\n\\nUn día, mientras Max paseaba por el parque, escuchó un ruido extraño proveniente de un arbusto. Curioso, se acercó corriendo y encontró a un cachorro abandonado. El pequeño perro estaba asustado y temblaba de frío.\\n\\nMax, con su corazón bondadoso, decidió cuidar del cachorro y llevarlo a su hogar. Juan se sorprendió al ver al nuevo integrante de la familia, pero al ver la tristeza en los ojos del cachorro, decidió que también merecía un hogar amoroso.\\n\\nCon el paso del tiempo, el cachorro fue creciendo y se convirtió en un perro leal y cariñoso. Max y su nuevo amigo, al que llamaron Bruno, se volvieron inseparables. Juntos, exploraban el pueblo y jugaban sin cesar.\\n\\nUn día, mientras Max y Bruno jugaban cerca de un lago, escucharon los gritos de una niña que estaba en problemas. Sin pensarlo dos veces, ambos perros se zambulleron en el agua y nadaron hasta donde estaba la niña. La rescataron y la llevaron sanos y salvos a la orilla.\\n\\nLa noticia de la valentía de Max y Bruno se extendió rápidamente por el pueblo, y todos los habitantes comenzaron a admirar a estos dos perros. Incluso el alcalde del pueblo les entregó medallas en reconocimiento a su bravura y generosidad.\\n\\nDesde ese día, Max y Bruno se convirtieron en héroes locales y se les consideraba los guardianes del pueblo. Siempre estaban dispuestos a ayudar a quienes lo necesitaran, demostrando que no importa el tamaño, todos podemos marcar la diferencia.\\n\\nLa historia de Max y Bruno se convirtió en una inspiración para todos, recordándonos que la amistad y el amor incondicional pueden cambiar vidas y hacer del mundo un lugar mejor. Y así, estos dos amigos peludos vivieron felices para siempre, dejando un legado de valentía y bondad en el corazón de todos los habitantes del pueblo.')"
      ]
     },
     "execution_count": 80,
     "metadata": {},
     "output_type": "execute_result"
    }
   ],
   "source": [
    "model = ChatOpenAI()\n",
    "prompt = ChatPromptTemplate.from_template(\"Cuentame una historia corta sobre {topic}\")\n",
    "chain = prompt | model\n",
    "chain.invoke({\"topic\": \"un perro\"})"
   ]
  },
  {
   "cell_type": "markdown",
   "metadata": {},
   "source": [
    "Ahora formateemos el mensaje a un string, en vez de la salida actual *AIMessage*."
   ]
  },
  {
   "cell_type": "code",
   "execution_count": 81,
   "metadata": {},
   "outputs": [
    {
     "data": {
      "text/plain": [
       "'Había una vez un perro llamado Max, quien vivía en un pequeño pueblo junto a su dueño, Santiago. Max era un perro muy leal y siempre estaba dispuesto a proteger y cuidar a su amo.\\n\\nUn día, Santiago decidió ir de excursión a las montañas cercanas. Max estaba emocionado y no podía esperar para aventurarse en la naturaleza. Juntos, caminaron por senderos sinuosos, disfrutando del aire fresco y los hermosos paisajes.\\n\\nDe repente, mientras caminaban por un camino estrecho, Santiago tropezó y se cayó por un barranco. Max, lleno de preocupación, corrió rápidamente hacia él y ladró para llamar la atención de alguien que pudiera ayudar. Pero no había nadie cerca.\\n\\nSin perder tiempo, Max decidió bajar al barranco para ayudar a su dueño. Con cuidado, descendió por las rocas y raíces, hasta que finalmente llegó junto a Santiago. Afortunadamente, Santiago solo tenía algunas heridas leves, pero estaba atrapado y no podía moverse.\\n\\nMax, sin dudarlo, buscó una forma de llevar a su dueño de vuelta al camino. Con su fuerza y determinación, Max logró arrastrar a Santiago hasta el camino principal. Fue un esfuerzo agotador, pero la lealtad de Max hacia su amo era inquebrantable.\\n\\nFinalmente, otro grupo de excursionistas encontró a Santiago y Max. Quedaron impresionados por la valentía y el amor que el perro había mostrado. Juntos, ayudaron a Santiago a ponerse de pie y lo llevaron de regreso al pueblo.\\n\\nDesde ese día, Max se convirtió en un héroe en el pueblo. Todos conocían la historia de cómo había salvado a Santiago. Max y Santiago siguieron siendo inseparables, y cada vez que salían de excursión, Max siempre estaba alerta y dispuesto a proteger a su amado dueño.\\n\\nLa historia de Max nos enseña sobre el amor incondicional y la lealtad de los perros. A veces, los héroes más grandes están justo a nuestro lado, en forma de un fiel amigo peludo.'"
      ]
     },
     "execution_count": 81,
     "metadata": {},
     "output_type": "execute_result"
    }
   ],
   "source": [
    "chain = prompt | model | StrOutputParser()\n",
    "chain.invoke({\"topic\": \"un perro\"})"
   ]
  },
  {
   "cell_type": "markdown",
   "metadata": {},
   "source": [
    "Ahora, usaremos un nuevo comando Batch en vez de invoke. En este caso para ejecutar el pipeline para varias entradas:"
   ]
  },
  {
   "cell_type": "code",
   "execution_count": 82,
   "metadata": {},
   "outputs": [
    {
     "data": {
      "text/plain": [
       "['Había una vez un perro llamado Max que vivía en un pequeño pueblo. Max era un perro muy curioso y aventurero, siempre buscando nuevas emociones y diversión. Un día, mientras paseaba por el bosque cercano, Max descubrió una misteriosa cueva.\\n\\nIntrigado, decidió entrar en la cueva y explorar su interior. Al principio, todo estaba oscuro y Max se movía con cautela, pero pronto comenzó a ver destellos de luz que provenían de lo profundo de la cueva. Siguiendo la luz, Max se adentró aún más y se encontró con un tesoro brillante y reluciente.\\n\\nEra un collar de diamantes que estaba tirado en el suelo. Max, emocionado, decidió tomar el collar y llevarlo a casa. Pero en el camino de regreso, se encontró con un niño llorando en el parque.\\n\\nEl niño le explicó a Max que había perdido a su perro y que estaba muy triste. Max, sintiendo empatía por el niño, decidió darle el collar de diamantes para animarlo. El niño, sorprendido y agradecido por el gesto de Max, le dio un abrazo y prometió cuidar del collar.\\n\\nDesde ese día, el niño y Max se hicieron grandes amigos. El niño llamó a su nuevo perro \"Max\" en honor al perro que había perdido, y juntos vivieron muchas aventuras y momentos felices. Max aprendió que a veces, el verdadero tesoro no está en las cosas materiales, sino en las relaciones y el amor que compartimos con los demás.',\n",
       " 'Había una vez un gato llamado Simón, que vivía en una pequeña casa en medio del campo. Simón era un gato muy curioso y aventurero, siempre buscando nuevas emociones y experiencias.\\n\\nUn día, mientras exploraba los alrededores de su hogar, Simón escuchó un ruido proveniente de un viejo granero abandonado. Sin pensarlo dos veces, se adentró en el oscuro lugar para descubrir qué lo estaba causando. Al entrar, se encontró con una camada de gatitos abandonados.\\n\\nSimón, con su gran corazón, decidió cuidar de los pequeños gatitos y convertirse en su protector. Los alimentaba, los limpiaba y les enseñaba a jugar. Pronto, los gatitos lo consideraron como su figura paterna y lo seguían a todas partes.\\n\\nLos días pasaron y los gatitos crecieron sanos y fuertes bajo el cuidado de Simón. Juntos, exploraban los rincones del granero y descubrían nuevos lugares en el campo. Simón les enseñaba a cazar y a ser independientes, pero también les brindaba amor y cariño.\\n\\nUn día, una tormenta azotó la zona y el granero comenzó a derrumbarse. Simón, con su instinto protector, reunió a los gatitos y los llevó al lugar más seguro que pudo encontrar. Aunque el granero quedó destruido, todos salieron ilesos gracias a la valentía y determinación de Simón.\\n\\nDesde aquel día, Simón y los gatitos se convirtieron en una familia inseparable. Juntos, encontraron un nuevo hogar en una granja cercana, donde recibieron atención, amor y cuidado de los granjeros. Simón estaba feliz de saber que había salvado a los pequeños y que ahora tenían una vida llena de alegría y aventuras.\\n\\nAsí, Simón demostró que no importa cuán pequeño o insignificante puedas parecer, siempre puedes hacer una gran diferencia en la vida de otros. El amor y la valentía de un gato pueden cambiar el destino de muchos, y Simón nunca dejó de ser un ejemplo de generosidad y coraje para todos los que lo conocieron.']"
      ]
     },
     "execution_count": 82,
     "metadata": {},
     "output_type": "execute_result"
    }
   ],
   "source": [
    "chain.batch([{\"topic\": \"Un perro\"}, {\"topic\": \"Un gato\"}])"
   ]
  },
  {
   "cell_type": "markdown",
   "metadata": {},
   "source": [
    "En esta ocasion, con el comando batch se ha ejecutado 2 veces el proceso. En el siguiente ejemplo usaremos stream, que nos permitirá imprimir el resultado palabra a palabra a medida que recibe la respuesta en vez de esperar a tener toda la respuesta."
   ]
  },
  {
   "cell_type": "code",
   "execution_count": 83,
   "metadata": {},
   "outputs": [
    {
     "name": "stdout",
     "output_type": "stream",
     "text": [
      "Había una vez un perro llamado Max, un pastor alemán muy juguetón y curioso. Vivía en un pequeño pueblo junto a su dueño, Juan, quien lo amaba con todo su corazón.\n",
      "\n",
      "Un día, Juan encontró un mapa antiguo en el desván de su casa. Decidido a descubrir su misterio, decidió seguirlo junto a Max. El mapa los llevó a un bosque frondoso y desconocido, donde la aventura comenzó.\n",
      "\n",
      "Mientras caminaban, Max percibió un olor peculiar y comenzó a excavar con entusiasmo. Descubrió un pequeño cofre enterrado. Juan lo abrió cuidadosamente y encontró un collar reluciente con una etiqueta que decía: \"Para el perro más valiente\".\n",
      "\n",
      "Inmediatamente, Max reconoció que ese collar era para él. Se lo puso y, de repente, comenzó a hablar. Juan quedó sorprendido, pero Max le explicó que el collar tenía poderes mágicos que le permitían comunicarse con los humanos.\n",
      "\n",
      "Con su nueva habilidad, Max y Juan continuaron adentrándose en el bosque, resolviendo enigmas y superando obstáculos. Juntos, se enfrentaron a un río caudaloso y a un puente tambaleante, pero siempre encontraban la manera de seguir adelante.\n",
      "\n",
      "Después de una larga travesía, llegaron a un claro donde encontraron un tesoro escondido. Era un montón de huesos de dinosaurio, algo que Juan siempre había soñado con encontrar. Max estaba emocionado por su dueño y, con una sonrisa en su rostro, le dijo: \"Gracias por llevarme en esta increíble aventura\".\n",
      "\n",
      "De regreso a casa, Juan y Max se dieron cuenta de que el verdadero tesoro no eran los huesos de dinosaurio, sino el amor y la amistad que habían fortalecido en su viaje juntos. A partir de ese día, Max y Juan se convirtieron en los mejores amigos y siempre estaban dispuestos a embarcarse en nuevas aventuras, sabiendo que juntos podían superar cualquier desafío."
     ]
    }
   ],
   "source": [
    "for s in chain.stream({\"topic\": \"un perro\"}):\n",
    "    print(s, end=\"\", flush=True)"
   ]
  },
  {
   "cell_type": "markdown",
   "metadata": {},
   "source": [
    "## Sección 3 - Jugando con Embeddings y Vectors DBs(In progress)"
   ]
  },
  {
   "cell_type": "markdown",
   "metadata": {},
   "source": [
    "En el siguiente ejemplo se muestra un ejemplo de RAG sensillo donde se almacenan los embeddings en memoria."
   ]
  },
  {
   "cell_type": "code",
   "execution_count": 87,
   "metadata": {},
   "outputs": [
    {
     "name": "stdout",
     "output_type": "stream",
     "text": [
      "El procedimiento sería imputar las 2 horas de formación en la tarea \"Formación\" y el resto del tiempo trabajado en las tareas correspondientes. Además, es importante firmar un documento de asistencia y enviarlo a RRHH para que se registre la formación correctamente.\n"
     ]
    }
   ],
   "source": [
    "vectorstore = DocArrayInMemorySearch.from_texts(\n",
    "    [\"Proceso 1: Los empleados deben imputar sus horas en cada una de las tareas en las que ha trabajado cada día\", \n",
    "     \"Proceso 2: En caso de que el empleado no haya trabajado en una tarea, debe imputar las horas en la tarea 'Otros'\",\n",
    "     \"Proceso 3: Las vacaciones se imputarán en la tarea 'Vacaciones', pero debe enviarse un mail a RRHH para que se contabilicen correctamente\",\n",
    "     \"Proceso 4: Las horas extras se imputarán en la tarea 'Horas extras', pero debe enviarse un mail a RRHH para que se contabilicen correctamente\",\n",
    "     \"Proceso 5: Las horas de formación se imputarán en la tarea 'Formación', el empleado debe firmar un documento de asistencia y enviarlo a RRHH\",\n",
    "     \"Norma 1: El empleado debe imputar sus horas en el sistema antes de las 18:00 del día siguiente\",\n",
    "     \"Norma 2: Las vacaciones deben tomarse para un perido mínimo de 5 días naturales\"],\n",
    "    embedding=OpenAIEmbeddings(),\n",
    ")\n",
    "\n",
    "retriever = vectorstore.as_retriever()\n",
    "\n",
    "template = \"\"\"Responde a la pregunta teniendo en cuenta en primer lugar el siguiente contexto sin ser muy creativo:\n",
    "{context}\n",
    "\n",
    "Question: {question}\n",
    "\"\"\"\n",
    "prompt = ChatPromptTemplate.from_template(template)\n",
    "model = ChatOpenAI()\n",
    "output_parser = StrOutputParser()\n",
    "\n",
    "setup_and_retrieval = RunnableParallel(\n",
    "    {\"context\": retriever, \"question\": RunnablePassthrough()}\n",
    ")\n",
    "chain = setup_and_retrieval | prompt | model | output_parser\n",
    "\n",
    "print(chain.invoke(\"Hoy he asistido a una formación de 2H, y el resto del tiempo he trabajado de tareas. ¿cual es el procedimiento?\"))"
   ]
  }
 ],
 "metadata": {
  "kernelspec": {
   "display_name": "venv",
   "language": "python",
   "name": "python3"
  },
  "language_info": {
   "codemirror_mode": {
    "name": "ipython",
    "version": 3
   },
   "file_extension": ".py",
   "mimetype": "text/x-python",
   "name": "python",
   "nbconvert_exporter": "python",
   "pygments_lexer": "ipython3",
   "version": "3.11.3"
  }
 },
 "nbformat": 4,
 "nbformat_minor": 2
}
